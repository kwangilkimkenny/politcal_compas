{
 "cells": [
  {
   "cell_type": "code",
   "execution_count": 1,
   "id": "4da1a0c6",
   "metadata": {},
   "outputs": [],
   "source": [
    "# BERT Text Classification using Keras\n",
    "\n",
    "# py37TF2 - home-imac"
   ]
  },
  {
   "cell_type": "code",
   "execution_count": 1,
   "id": "407e570a",
   "metadata": {},
   "outputs": [],
   "source": [
    "import tensorflow as tf\n",
    "import tensorflow_hub as hub\n",
    "import pandas as pd\n",
    "from sklearn.model_selection import train_test_split\n",
    "import numpy as np\n",
    "import re\n",
    "import unicodedata\n",
    "import nltk\n",
    "from nltk.corpus import stopwords\n",
    "import keras\n",
    "from tqdm import tqdm\n",
    "import pickle\n",
    "from keras.models import Model\n",
    "import keras.backend as K\n",
    "from sklearn.metrics import confusion_matrix,f1_score,classification_report\n",
    "import matplotlib.pyplot as plt\n",
    "from keras.callbacks import ModelCheckpoint\n",
    "import itertools\n",
    "from keras.models import load_model\n",
    "from sklearn.utils import shuffle\n",
    "from transformers import *\n",
    "from transformers import BertTokenizer, TFBertModel, BertConfig"
   ]
  },
  {
   "cell_type": "code",
   "execution_count": 2,
   "id": "f6d30373",
   "metadata": {},
   "outputs": [],
   "source": [
    "\n",
    "def unicode_to_ascii(s):\n",
    "    return ''.join(c for c in unicodedata.normalize('NFD', s) if unicodedata.category(c) != 'Mn')\n",
    "\n",
    "def clean_stopwords_shortwords(w):\n",
    "    stopwords_list=stopwords.words('english')\n",
    "    words = w.split() \n",
    "    clean_words = [word for word in words if (word not in stopwords_list) and len(word) > 2]\n",
    "    return \" \".join(clean_words) \n",
    "\n",
    "def preprocess_sentence(w):\n",
    "    w = unicode_to_ascii(w.lower().strip())\n",
    "    w = re.sub(r\"([?.!,¿])\", r\" \", w)\n",
    "    w = re.sub(r'[\" \"]+', \" \", w)\n",
    "    w = re.sub(r\"[^a-zA-Z?.!,¿]+\", \" \", w)\n",
    "    w=clean_stopwords_shortwords(w)\n",
    "    w=re.sub(r'@\\w+', '',w)\n",
    "    return w"
   ]
  },
  {
   "cell_type": "code",
   "execution_count": 3,
   "id": "4296bf8c",
   "metadata": {},
   "outputs": [],
   "source": [
    "data = pd.read_csv('./data_political_compass/political_compass_datasets.csv')"
   ]
  },
  {
   "cell_type": "code",
   "execution_count": 4,
   "id": "8b80d151",
   "metadata": {},
   "outputs": [
    {
     "data": {
      "text/html": [
       "<div>\n",
       "<style scoped>\n",
       "    .dataframe tbody tr th:only-of-type {\n",
       "        vertical-align: middle;\n",
       "    }\n",
       "\n",
       "    .dataframe tbody tr th {\n",
       "        vertical-align: top;\n",
       "    }\n",
       "\n",
       "    .dataframe thead th {\n",
       "        text-align: right;\n",
       "    }\n",
       "</style>\n",
       "<table border=\"1\" class=\"dataframe\">\n",
       "  <thead>\n",
       "    <tr style=\"text-align: right;\">\n",
       "      <th></th>\n",
       "      <th>Unnamed: 0</th>\n",
       "      <th>text</th>\n",
       "      <th>label</th>\n",
       "    </tr>\n",
       "  </thead>\n",
       "  <tbody>\n",
       "    <tr>\n",
       "      <th>0</th>\n",
       "      <td>0</td>\n",
       "      <td>ASIAN EXPORTERS FEAR DAMAGE FROM U.S.-JAPAN RI...</td>\n",
       "      <td>center</td>\n",
       "    </tr>\n",
       "    <tr>\n",
       "      <th>1</th>\n",
       "      <td>1</td>\n",
       "      <td>They told Reuter correspondents in Asian capit...</td>\n",
       "      <td>center</td>\n",
       "    </tr>\n",
       "    <tr>\n",
       "      <th>2</th>\n",
       "      <td>2</td>\n",
       "      <td>But some exporters said that while the conflic...</td>\n",
       "      <td>center</td>\n",
       "    </tr>\n",
       "    <tr>\n",
       "      <th>3</th>\n",
       "      <td>3</td>\n",
       "      <td>The U.S. Has said it will impose 300 mln dlrs ...</td>\n",
       "      <td>center</td>\n",
       "    </tr>\n",
       "    <tr>\n",
       "      <th>4</th>\n",
       "      <td>4</td>\n",
       "      <td>Unofficial Japanese estimates put the impact o...</td>\n",
       "      <td>center</td>\n",
       "    </tr>\n",
       "  </tbody>\n",
       "</table>\n",
       "</div>"
      ],
      "text/plain": [
       "   Unnamed: 0                                               text   label\n",
       "0           0  ASIAN EXPORTERS FEAR DAMAGE FROM U.S.-JAPAN RI...  center\n",
       "1           1  They told Reuter correspondents in Asian capit...  center\n",
       "2           2  But some exporters said that while the conflic...  center\n",
       "3           3  The U.S. Has said it will impose 300 mln dlrs ...  center\n",
       "4           4  Unofficial Japanese estimates put the impact o...  center"
      ]
     },
     "execution_count": 4,
     "metadata": {},
     "output_type": "execute_result"
    }
   ],
   "source": [
    "data.head()"
   ]
  },
  {
   "cell_type": "code",
   "execution_count": 5,
   "id": "0d5cee69",
   "metadata": {},
   "outputs": [
    {
     "name": "stdout",
     "output_type": "stream",
     "text": [
      "File has 1548 rows and 3 columns\n"
     ]
    }
   ],
   "source": [
    "print('File has {} rows and {} columns'.format(data.shape[0],data.shape[1]))"
   ]
  },
  {
   "cell_type": "code",
   "execution_count": 6,
   "id": "cc36a178",
   "metadata": {},
   "outputs": [],
   "source": [
    "# Select required columns\n",
    "data = data[['text', 'label']]"
   ]
  },
  {
   "cell_type": "code",
   "execution_count": 7,
   "id": "f08a4120",
   "metadata": {},
   "outputs": [
    {
     "data": {
      "text/html": [
       "<div>\n",
       "<style scoped>\n",
       "    .dataframe tbody tr th:only-of-type {\n",
       "        vertical-align: middle;\n",
       "    }\n",
       "\n",
       "    .dataframe tbody tr th {\n",
       "        vertical-align: top;\n",
       "    }\n",
       "\n",
       "    .dataframe thead th {\n",
       "        text-align: right;\n",
       "    }\n",
       "</style>\n",
       "<table border=\"1\" class=\"dataframe\">\n",
       "  <thead>\n",
       "    <tr style=\"text-align: right;\">\n",
       "      <th></th>\n",
       "      <th>text</th>\n",
       "      <th>label</th>\n",
       "    </tr>\n",
       "  </thead>\n",
       "  <tbody>\n",
       "    <tr>\n",
       "      <th>0</th>\n",
       "      <td>ASIAN EXPORTERS FEAR DAMAGE FROM U.S.-JAPAN RI...</td>\n",
       "      <td>center</td>\n",
       "    </tr>\n",
       "    <tr>\n",
       "      <th>1</th>\n",
       "      <td>They told Reuter correspondents in Asian capit...</td>\n",
       "      <td>center</td>\n",
       "    </tr>\n",
       "    <tr>\n",
       "      <th>2</th>\n",
       "      <td>But some exporters said that while the conflic...</td>\n",
       "      <td>center</td>\n",
       "    </tr>\n",
       "    <tr>\n",
       "      <th>3</th>\n",
       "      <td>The U.S. Has said it will impose 300 mln dlrs ...</td>\n",
       "      <td>center</td>\n",
       "    </tr>\n",
       "    <tr>\n",
       "      <th>4</th>\n",
       "      <td>Unofficial Japanese estimates put the impact o...</td>\n",
       "      <td>center</td>\n",
       "    </tr>\n",
       "  </tbody>\n",
       "</table>\n",
       "</div>"
      ],
      "text/plain": [
       "                                                text   label\n",
       "0  ASIAN EXPORTERS FEAR DAMAGE FROM U.S.-JAPAN RI...  center\n",
       "1  They told Reuter correspondents in Asian capit...  center\n",
       "2  But some exporters said that while the conflic...  center\n",
       "3  The U.S. Has said it will impose 300 mln dlrs ...  center\n",
       "4  Unofficial Japanese estimates put the impact o...  center"
      ]
     },
     "execution_count": 7,
     "metadata": {},
     "output_type": "execute_result"
    }
   ],
   "source": [
    "data.head()"
   ]
  },
  {
   "cell_type": "code",
   "execution_count": 8,
   "id": "d52fefb0",
   "metadata": {},
   "outputs": [],
   "source": [
    "# Remove rows, where the label is present only ones (can't be split)\n",
    "data = data.groupby('label').filter(lambda x : len(x) > 1)\n",
    "#data = data.groupby('Product').filter(lambda x : len(x) > 1)"
   ]
  },
  {
   "cell_type": "code",
   "execution_count": 9,
   "id": "d78e8a5e",
   "metadata": {},
   "outputs": [
    {
     "data": {
      "text/html": [
       "<div>\n",
       "<style scoped>\n",
       "    .dataframe tbody tr th:only-of-type {\n",
       "        vertical-align: middle;\n",
       "    }\n",
       "\n",
       "    .dataframe tbody tr th {\n",
       "        vertical-align: top;\n",
       "    }\n",
       "\n",
       "    .dataframe thead th {\n",
       "        text-align: right;\n",
       "    }\n",
       "</style>\n",
       "<table border=\"1\" class=\"dataframe\">\n",
       "  <thead>\n",
       "    <tr style=\"text-align: right;\">\n",
       "      <th></th>\n",
       "      <th>text</th>\n",
       "      <th>label</th>\n",
       "    </tr>\n",
       "  </thead>\n",
       "  <tbody>\n",
       "    <tr>\n",
       "      <th>0</th>\n",
       "      <td>ASIAN EXPORTERS FEAR DAMAGE FROM U.S.-JAPAN RI...</td>\n",
       "      <td>center</td>\n",
       "    </tr>\n",
       "    <tr>\n",
       "      <th>1</th>\n",
       "      <td>They told Reuter correspondents in Asian capit...</td>\n",
       "      <td>center</td>\n",
       "    </tr>\n",
       "    <tr>\n",
       "      <th>2</th>\n",
       "      <td>But some exporters said that while the conflic...</td>\n",
       "      <td>center</td>\n",
       "    </tr>\n",
       "    <tr>\n",
       "      <th>3</th>\n",
       "      <td>The U.S. Has said it will impose 300 mln dlrs ...</td>\n",
       "      <td>center</td>\n",
       "    </tr>\n",
       "    <tr>\n",
       "      <th>4</th>\n",
       "      <td>Unofficial Japanese estimates put the impact o...</td>\n",
       "      <td>center</td>\n",
       "    </tr>\n",
       "  </tbody>\n",
       "</table>\n",
       "</div>"
      ],
      "text/plain": [
       "                                                text   label\n",
       "0  ASIAN EXPORTERS FEAR DAMAGE FROM U.S.-JAPAN RI...  center\n",
       "1  They told Reuter correspondents in Asian capit...  center\n",
       "2  But some exporters said that while the conflic...  center\n",
       "3  The U.S. Has said it will impose 300 mln dlrs ...  center\n",
       "4  Unofficial Japanese estimates put the impact o...  center"
      ]
     },
     "execution_count": 9,
     "metadata": {},
     "output_type": "execute_result"
    }
   ],
   "source": [
    "data.head()"
   ]
  },
  {
   "cell_type": "code",
   "execution_count": 10,
   "id": "77fbfa0f",
   "metadata": {},
   "outputs": [
    {
     "data": {
      "text/html": [
       "<div>\n",
       "<style scoped>\n",
       "    .dataframe tbody tr th:only-of-type {\n",
       "        vertical-align: middle;\n",
       "    }\n",
       "\n",
       "    .dataframe tbody tr th {\n",
       "        vertical-align: top;\n",
       "    }\n",
       "\n",
       "    .dataframe thead th {\n",
       "        text-align: right;\n",
       "    }\n",
       "</style>\n",
       "<table border=\"1\" class=\"dataframe\">\n",
       "  <thead>\n",
       "    <tr style=\"text-align: right;\">\n",
       "      <th></th>\n",
       "      <th>text</th>\n",
       "      <th>label</th>\n",
       "    </tr>\n",
       "  </thead>\n",
       "  <tbody>\n",
       "    <tr>\n",
       "      <th>0</th>\n",
       "      <td>Well, as of this month, there's now a contextu...</td>\n",
       "      <td>lean_left</td>\n",
       "    </tr>\n",
       "    <tr>\n",
       "      <th>1</th>\n",
       "      <td>What his happening to his support among Republ...</td>\n",
       "      <td>lean_left</td>\n",
       "    </tr>\n",
       "    <tr>\n",
       "      <th>2</th>\n",
       "      <td>The simultaneous foreign and domestic crises w...</td>\n",
       "      <td>left</td>\n",
       "    </tr>\n",
       "    <tr>\n",
       "      <th>3</th>\n",
       "      <td>Well, I think the main reason I wanted to set ...</td>\n",
       "      <td>lean_left</td>\n",
       "    </tr>\n",
       "    <tr>\n",
       "      <th>4</th>\n",
       "      <td>(Yasuyoshi Chiba/AFP/Getty Images)\\nNepal\\nCov...</td>\n",
       "      <td>left</td>\n",
       "    </tr>\n",
       "    <tr>\n",
       "      <th>...</th>\n",
       "      <td>...</td>\n",
       "      <td>...</td>\n",
       "    </tr>\n",
       "    <tr>\n",
       "      <th>1543</th>\n",
       "      <td>Outside the windows, aides were rushing to pre...</td>\n",
       "      <td>left</td>\n",
       "    </tr>\n",
       "    <tr>\n",
       "      <th>1544</th>\n",
       "      <td>(Michael Dantas/AFP/Getty Images)\\nKenya\\nEarl...</td>\n",
       "      <td>left</td>\n",
       "    </tr>\n",
       "    <tr>\n",
       "      <th>1545</th>\n",
       "      <td>Unofficial Japanese estimates put the impact o...</td>\n",
       "      <td>center</td>\n",
       "    </tr>\n",
       "    <tr>\n",
       "      <th>1546</th>\n",
       "      <td>Well, I think it's interesting that despite th...</td>\n",
       "      <td>lean_left</td>\n",
       "    </tr>\n",
       "    <tr>\n",
       "      <th>1547</th>\n",
       "      <td>Less than 1% of Nigeria’s population has been ...</td>\n",
       "      <td>left</td>\n",
       "    </tr>\n",
       "  </tbody>\n",
       "</table>\n",
       "<p>1548 rows × 2 columns</p>\n",
       "</div>"
      ],
      "text/plain": [
       "                                                   text      label\n",
       "0     Well, as of this month, there's now a contextu...  lean_left\n",
       "1     What his happening to his support among Republ...  lean_left\n",
       "2     The simultaneous foreign and domestic crises w...       left\n",
       "3     Well, I think the main reason I wanted to set ...  lean_left\n",
       "4     (Yasuyoshi Chiba/AFP/Getty Images)\\nNepal\\nCov...       left\n",
       "...                                                 ...        ...\n",
       "1543  Outside the windows, aides were rushing to pre...       left\n",
       "1544  (Michael Dantas/AFP/Getty Images)\\nKenya\\nEarl...       left\n",
       "1545  Unofficial Japanese estimates put the impact o...     center\n",
       "1546  Well, I think it's interesting that despite th...  lean_left\n",
       "1547  Less than 1% of Nigeria’s population has been ...       left\n",
       "\n",
       "[1548 rows x 2 columns]"
      ]
     },
     "execution_count": 10,
     "metadata": {},
     "output_type": "execute_result"
    }
   ],
   "source": [
    "# shaffle datasets\n",
    "data = data.sample(frac=1).reset_index(drop=True)\n",
    "data"
   ]
  },
  {
   "cell_type": "code",
   "execution_count": 11,
   "id": "a852215d",
   "metadata": {},
   "outputs": [
    {
     "name": "stdout",
     "output_type": "stream",
     "text": [
      "Available labels:  ['left' 'lean_left' 'center' 'right' 'lean_right']\n"
     ]
    }
   ],
   "source": [
    "data=data.dropna()                                                           # Drop NaN valuues, if any\n",
    "data=data.reset_index(drop=True)                                             # Reset index after dropping the columns/rows with NaN values\n",
    "data = shuffle(data)                                                         # Shuffle the dataset\n",
    "print('Available labels: ',data.label.unique())                              # Print all the unique labels in the dataset\n",
    "data['text']=data['text'].map(preprocess_sentence)                           # Clean the text column using preprocess_sentence function defined above"
   ]
  },
  {
   "cell_type": "code",
   "execution_count": 12,
   "id": "b2cc662a",
   "metadata": {},
   "outputs": [
    {
     "name": "stdout",
     "output_type": "stream",
     "text": [
      "File has 1548 rows and 2 columns\n"
     ]
    },
    {
     "data": {
      "text/html": [
       "<div>\n",
       "<style scoped>\n",
       "    .dataframe tbody tr th:only-of-type {\n",
       "        vertical-align: middle;\n",
       "    }\n",
       "\n",
       "    .dataframe tbody tr th {\n",
       "        vertical-align: top;\n",
       "    }\n",
       "\n",
       "    .dataframe thead th {\n",
       "        text-align: right;\n",
       "    }\n",
       "</style>\n",
       "<table border=\"1\" class=\"dataframe\">\n",
       "  <thead>\n",
       "    <tr style=\"text-align: right;\">\n",
       "      <th></th>\n",
       "      <th>text</th>\n",
       "      <th>label</th>\n",
       "    </tr>\n",
       "  </thead>\n",
       "  <tbody>\n",
       "    <tr>\n",
       "      <th>1470</th>\n",
       "      <td>program plagued problems program mark annivers...</td>\n",
       "      <td>left</td>\n",
       "    </tr>\n",
       "    <tr>\n",
       "      <th>827</th>\n",
       "      <td>target two facilities belonged state owned oil...</td>\n",
       "      <td>lean_left</td>\n",
       "    </tr>\n",
       "    <tr>\n",
       "      <th>178</th>\n",
       "      <td>yeah guy blonde raises eyebrows tilts head bit...</td>\n",
       "      <td>lean_left</td>\n",
       "    </tr>\n",
       "    <tr>\n",
       "      <th>530</th>\n",
       "      <td>importantly think would given opposition legit...</td>\n",
       "      <td>lean_left</td>\n",
       "    </tr>\n",
       "    <tr>\n",
       "      <th>300</th>\n",
       "      <td>last year bought million worth american flags ...</td>\n",
       "      <td>lean_left</td>\n",
       "    </tr>\n",
       "  </tbody>\n",
       "</table>\n",
       "</div>"
      ],
      "text/plain": [
       "                                                   text      label\n",
       "1470  program plagued problems program mark annivers...       left\n",
       "827   target two facilities belonged state owned oil...  lean_left\n",
       "178   yeah guy blonde raises eyebrows tilts head bit...  lean_left\n",
       "530   importantly think would given opposition legit...  lean_left\n",
       "300   last year bought million worth american flags ...  lean_left"
      ]
     },
     "execution_count": 12,
     "metadata": {},
     "output_type": "execute_result"
    }
   ],
   "source": [
    "\n",
    "print('File has {} rows and {} columns'.format(data.shape[0],data.shape[1]))\n",
    "data.head()"
   ]
  },
  {
   "cell_type": "code",
   "execution_count": 13,
   "id": "7ce7762d",
   "metadata": {},
   "outputs": [
    {
     "data": {
      "text/plain": [
       "5"
      ]
     },
     "execution_count": 13,
     "metadata": {},
     "output_type": "execute_result"
    }
   ],
   "source": [
    "num_classes=len(data.label.unique())\n",
    "num_classes"
   ]
  },
  {
   "cell_type": "code",
   "execution_count": 14,
   "id": "f44f44b2",
   "metadata": {},
   "outputs": [
    {
     "name": "stderr",
     "output_type": "stream",
     "text": [
      "All model checkpoint layers were used when initializing TFBertForSequenceClassification.\n",
      "\n",
      "Some layers of TFBertForSequenceClassification were not initialized from the model checkpoint at bert-base-uncased and are newly initialized: ['classifier']\n",
      "You should probably TRAIN this model on a down-stream task to be able to use it for predictions and inference.\n"
     ]
    }
   ],
   "source": [
    "\n",
    "bert_tokenizer = BertTokenizer.from_pretrained(\"bert-base-uncased\")\n",
    "bert_model = TFBertForSequenceClassification.from_pretrained('bert-base-uncased',num_labels=num_classes)"
   ]
  },
  {
   "cell_type": "code",
   "execution_count": 15,
   "id": "02244dec",
   "metadata": {},
   "outputs": [
    {
     "name": "stdout",
     "output_type": "stream",
     "text": [
      "['how', 'to', 'train', 'the', 'model', ',', 'lets', 'look', 'at', 'how', 'a', 'trained', 'model', 'calculate', '##s', 'its', 'prediction', '.']\n"
     ]
    }
   ],
   "source": [
    "\n",
    "sent= 'how to train the model, lets look at how a trained model calculates its prediction.'\n",
    "tokens=bert_tokenizer.tokenize(sent)\n",
    "print(tokens)"
   ]
  },
  {
   "cell_type": "code",
   "execution_count": 16,
   "id": "af28a164",
   "metadata": {},
   "outputs": [
    {
     "name": "stderr",
     "output_type": "stream",
     "text": [
      "Truncation was not explicitly activated but `max_length` is provided a specific value, please use `truncation=True` to explicitly truncate examples to max length. Defaulting to 'longest_first' truncation strategy. If you encode pairs of sequences (GLUE-style) with the tokenizer you can select this strategy more precisely by providing a specific strategy to `truncation`.\n",
      "/Users/kimkwangil/opt/anaconda3/envs/py38pytorch/lib/python3.8/site-packages/transformers/tokenization_utils_base.py:2104: FutureWarning: The `pad_to_max_length` argument is deprecated and will be removed in a future version, use `padding=True` or `padding='longest'` to pad to the longest sequence in the batch, or use `padding='max_length'` to pad to a max length. In this case, you can give a specific length with `max_length` (e.g. `max_length=45`) or leave max_length to None to pad to the maximal input size of the model (e.g. 512 for Bert).\n",
      "  warnings.warn(\n"
     ]
    }
   ],
   "source": [
    "tokenized_sequence= bert_tokenizer.encode_plus(sent,add_special_tokens = True,max_length =30,pad_to_max_length = True,\n",
    "return_attention_mask = True)"
   ]
  },
  {
   "cell_type": "code",
   "execution_count": 17,
   "id": "aea5fc67",
   "metadata": {},
   "outputs": [
    {
     "data": {
      "text/plain": [
       "{'input_ids': [101, 2129, 2000, 3345, 1996, 2944, 1010, 11082, 2298, 2012, 2129, 1037, 4738, 2944, 18422, 2015, 2049, 17547, 1012, 102, 0, 0, 0, 0, 0, 0, 0, 0, 0, 0], 'token_type_ids': [0, 0, 0, 0, 0, 0, 0, 0, 0, 0, 0, 0, 0, 0, 0, 0, 0, 0, 0, 0, 0, 0, 0, 0, 0, 0, 0, 0, 0, 0], 'attention_mask': [1, 1, 1, 1, 1, 1, 1, 1, 1, 1, 1, 1, 1, 1, 1, 1, 1, 1, 1, 1, 0, 0, 0, 0, 0, 0, 0, 0, 0, 0]}"
      ]
     },
     "execution_count": 17,
     "metadata": {},
     "output_type": "execute_result"
    }
   ],
   "source": [
    "\n",
    "tokenized_sequence"
   ]
  },
  {
   "cell_type": "code",
   "execution_count": 18,
   "id": "e5f6b6bf",
   "metadata": {},
   "outputs": [
    {
     "data": {
      "text/plain": [
       "'[CLS] how to train the model, lets look at how a trained model calculates its prediction. [SEP] [PAD] [PAD] [PAD] [PAD] [PAD] [PAD] [PAD] [PAD] [PAD] [PAD]'"
      ]
     },
     "execution_count": 18,
     "metadata": {},
     "output_type": "execute_result"
    }
   ],
   "source": [
    "bert_tokenizer.decode(tokenized_sequence['input_ids'])"
   ]
  },
  {
   "cell_type": "code",
   "execution_count": 19,
   "id": "94d5f7cd",
   "metadata": {},
   "outputs": [
    {
     "data": {
      "text/html": [
       "<div>\n",
       "<style scoped>\n",
       "    .dataframe tbody tr th:only-of-type {\n",
       "        vertical-align: middle;\n",
       "    }\n",
       "\n",
       "    .dataframe tbody tr th {\n",
       "        vertical-align: top;\n",
       "    }\n",
       "\n",
       "    .dataframe thead th {\n",
       "        text-align: right;\n",
       "    }\n",
       "</style>\n",
       "<table border=\"1\" class=\"dataframe\">\n",
       "  <thead>\n",
       "    <tr style=\"text-align: right;\">\n",
       "      <th></th>\n",
       "      <th>text</th>\n",
       "      <th>label</th>\n",
       "      <th>gt</th>\n",
       "    </tr>\n",
       "  </thead>\n",
       "  <tbody>\n",
       "    <tr>\n",
       "      <th>1470</th>\n",
       "      <td>program plagued problems program mark annivers...</td>\n",
       "      <td>left</td>\n",
       "      <td>0</td>\n",
       "    </tr>\n",
       "    <tr>\n",
       "      <th>827</th>\n",
       "      <td>target two facilities belonged state owned oil...</td>\n",
       "      <td>lean_left</td>\n",
       "      <td>1</td>\n",
       "    </tr>\n",
       "    <tr>\n",
       "      <th>178</th>\n",
       "      <td>yeah guy blonde raises eyebrows tilts head bit...</td>\n",
       "      <td>lean_left</td>\n",
       "      <td>1</td>\n",
       "    </tr>\n",
       "    <tr>\n",
       "      <th>530</th>\n",
       "      <td>importantly think would given opposition legit...</td>\n",
       "      <td>lean_left</td>\n",
       "      <td>1</td>\n",
       "    </tr>\n",
       "    <tr>\n",
       "      <th>300</th>\n",
       "      <td>last year bought million worth american flags ...</td>\n",
       "      <td>lean_left</td>\n",
       "      <td>1</td>\n",
       "    </tr>\n",
       "  </tbody>\n",
       "</table>\n",
       "</div>"
      ],
      "text/plain": [
       "                                                   text      label  gt\n",
       "1470  program plagued problems program mark annivers...       left   0\n",
       "827   target two facilities belonged state owned oil...  lean_left   1\n",
       "178   yeah guy blonde raises eyebrows tilts head bit...  lean_left   1\n",
       "530   importantly think would given opposition legit...  lean_left   1\n",
       "300   last year bought million worth american flags ...  lean_left   1"
      ]
     },
     "execution_count": 19,
     "metadata": {},
     "output_type": "execute_result"
    }
   ],
   "source": [
    "data['gt'] = data['label'].map({'left':0,'lean_left':1, 'center':2,'lean_right':3, 'right':4})\n",
    "data.head()"
   ]
  },
  {
   "cell_type": "code",
   "execution_count": 20,
   "id": "1a4cfec7",
   "metadata": {},
   "outputs": [
    {
     "data": {
      "text/plain": [
       "(1548, 1548)"
      ]
     },
     "execution_count": 20,
     "metadata": {},
     "output_type": "execute_result"
    }
   ],
   "source": [
    "\n",
    "sentences=data['text']\n",
    "labels=data['gt']\n",
    "len(sentences),len(labels)"
   ]
  },
  {
   "cell_type": "markdown",
   "id": "95756573",
   "metadata": {},
   "source": [
    "# 문장을 숫자변환 예\n",
    "\n",
    "- Original Sentence: Let's learn deep learning!\n",
    "\n",
    "- Tokenized Sentence: ['Let', \"'\", 's', 'learn', 'deep', 'learning', '!']\n",
    "\n",
    "- Adding [CLS] and [SEP] Tokens: ['[CLS]', 'Let', \"'\", 's', 'learn', 'deep', 'learning', '!', '[SEP]']\n",
    "\n",
    "- Padding: ['[CLS]', 'Let', \"'\", 's', 'learn', 'deep', 'learning', '!', '[SEP]', '[PAD]']\n",
    "\n",
    "- Converting to IDs: [101, 2421, 112, 188, 3858, 1996, 3776, 106, 102, 0]"
   ]
  },
  {
   "cell_type": "code",
   "execution_count": 21,
   "id": "c42e91a0",
   "metadata": {},
   "outputs": [
    {
     "name": "stderr",
     "output_type": "stream",
     "text": [
      "/Users/kimkwangil/opt/anaconda3/envs/py38pytorch/lib/python3.8/site-packages/transformers/tokenization_utils_base.py:2104: FutureWarning: The `pad_to_max_length` argument is deprecated and will be removed in a future version, use `padding=True` or `padding='longest'` to pad to the longest sequence in the batch, or use `padding='max_length'` to pad to a max length. In this case, you can give a specific length with `max_length` (e.g. `max_length=45`) or leave max_length to None to pad to the maximal input size of the model (e.g. 512 for Bert).\n",
      "  warnings.warn(\n"
     ]
    }
   ],
   "source": [
    "input_ids=[] # 입력데디터 리스트 선언\n",
    "attention_masks=[] # 앞뒤 정보를 비교하여 마스크 예측하기 위한 리스트 선언\n",
    "\n",
    "for sent in sentences: # 문장하나씩 가져와서 인풋, 마스스크를 추가\n",
    "    # 문장을 숫자로 바꾼다. 짧은 문장은 패딩처리하고, 토큰화 한다.\n",
    "    bert_inp=bert_tokenizer.encode_plus(sent,add_special_tokens = True,max_length =64,pad_to_max_length = True,return_attention_mask = True)\n",
    "    input_ids.append(bert_inp['input_ids'])\n",
    "    attention_masks.append(bert_inp['attention_mask'])\n",
    "\n",
    "input_ids=np.asarray(input_ids)\n",
    "attention_masks=np.array(attention_masks)\n",
    "labels=np.array(labels)"
   ]
  },
  {
   "cell_type": "code",
   "execution_count": 22,
   "id": "e070c626",
   "metadata": {},
   "outputs": [
    {
     "data": {
      "text/plain": [
       "array([[  101,  2565, 17808, ...,     0,     0,     0],\n",
       "       [  101,  4539,  2048, ...,     0,     0,     0],\n",
       "       [  101,  3398,  3124, ...,     0,     0,     0],\n",
       "       ...,\n",
       "       [  101,  3809,  3947, ...,     0,     0,     0],\n",
       "       [  101, 21411, 18218, ...,     0,     0,     0],\n",
       "       [  101, 19647,  2375, ...,     0,     0,     0]])"
      ]
     },
     "execution_count": 22,
     "metadata": {},
     "output_type": "execute_result"
    }
   ],
   "source": [
    "input_ids"
   ]
  },
  {
   "cell_type": "code",
   "execution_count": 23,
   "id": "bb2d589b",
   "metadata": {},
   "outputs": [
    {
     "data": {
      "text/plain": [
       "array([[1, 1, 1, ..., 0, 0, 0],\n",
       "       [1, 1, 1, ..., 0, 0, 0],\n",
       "       [1, 1, 1, ..., 0, 0, 0],\n",
       "       ...,\n",
       "       [1, 1, 1, ..., 0, 0, 0],\n",
       "       [1, 1, 1, ..., 0, 0, 0],\n",
       "       [1, 1, 1, ..., 0, 0, 0]])"
      ]
     },
     "execution_count": 23,
     "metadata": {},
     "output_type": "execute_result"
    }
   ],
   "source": [
    "attention_masks"
   ]
  },
  {
   "cell_type": "code",
   "execution_count": 24,
   "id": "5572be8e",
   "metadata": {},
   "outputs": [
    {
     "data": {
      "text/plain": [
       "array([0, 1, 1, ..., 4, 1, 1])"
      ]
     },
     "execution_count": 24,
     "metadata": {},
     "output_type": "execute_result"
    }
   ],
   "source": [
    "labels"
   ]
  },
  {
   "cell_type": "code",
   "execution_count": 25,
   "id": "8f165ad0",
   "metadata": {},
   "outputs": [
    {
     "data": {
      "text/plain": [
       "(1548, 1548, 1548)"
      ]
     },
     "execution_count": 25,
     "metadata": {},
     "output_type": "execute_result"
    }
   ],
   "source": [
    "len(input_ids),len(attention_masks),len(labels)"
   ]
  },
  {
   "cell_type": "code",
   "execution_count": 26,
   "id": "352072dc",
   "metadata": {},
   "outputs": [
    {
     "name": "stdout",
     "output_type": "stream",
     "text": [
      "Preparing the pickle file.....\n",
      "Pickle files saved as  ./data_pc/bert_inp.pkl ./data_pc/bert_mask.pkl ./data_pc/bert_label.pkl\n"
     ]
    }
   ],
   "source": [
    "\n",
    "print('Preparing the pickle file.....')\n",
    "\n",
    "pickle_inp_path='./data_pc/bert_inp.pkl'\n",
    "pickle_mask_path='./data_pc/bert_mask.pkl'\n",
    "pickle_label_path='./data_pc/bert_label.pkl'\n",
    "\n",
    "pickle.dump((input_ids),open(pickle_inp_path,'wb'))\n",
    "pickle.dump((attention_masks),open(pickle_mask_path,'wb'))\n",
    "pickle.dump((labels),open(pickle_label_path,'wb'))\n",
    "\n",
    "\n",
    "print('Pickle files saved as ',pickle_inp_path,pickle_mask_path,pickle_label_path)"
   ]
  },
  {
   "cell_type": "code",
   "execution_count": 27,
   "id": "1bf73d31",
   "metadata": {},
   "outputs": [
    {
     "name": "stdout",
     "output_type": "stream",
     "text": [
      "Loading the saved pickle files..\n",
      "Input shape (1548, 64) Attention mask shape (1548, 64) Input label shape (1548,)\n"
     ]
    }
   ],
   "source": [
    "print('Loading the saved pickle files..')\n",
    "\n",
    "input_ids=pickle.load(open(pickle_inp_path, 'rb'))\n",
    "attention_masks=pickle.load(open(pickle_mask_path, 'rb'))\n",
    "labels=pickle.load(open(pickle_label_path, 'rb'))\n",
    "\n",
    "print('Input shape {} Attention mask shape {} Input label shape {}'.format(input_ids.shape,attention_masks.shape,labels.shape))"
   ]
  },
  {
   "cell_type": "code",
   "execution_count": 28,
   "id": "64c5b078",
   "metadata": {},
   "outputs": [
    {
     "data": {
      "text/plain": [
       "array([[  101,  2565, 17808, ...,     0,     0,     0],\n",
       "       [  101,  4539,  2048, ...,     0,     0,     0],\n",
       "       [  101,  3398,  3124, ...,     0,     0,     0],\n",
       "       ...,\n",
       "       [  101,  3809,  3947, ...,     0,     0,     0],\n",
       "       [  101, 21411, 18218, ...,     0,     0,     0],\n",
       "       [  101, 19647,  2375, ...,     0,     0,     0]])"
      ]
     },
     "execution_count": 28,
     "metadata": {},
     "output_type": "execute_result"
    }
   ],
   "source": [
    "input_ids # 입력문장"
   ]
  },
  {
   "cell_type": "code",
   "execution_count": 29,
   "id": "0c19f8be",
   "metadata": {},
   "outputs": [
    {
     "data": {
      "text/plain": [
       "array([[1, 1, 1, ..., 0, 0, 0],\n",
       "       [1, 1, 1, ..., 0, 0, 0],\n",
       "       [1, 1, 1, ..., 0, 0, 0],\n",
       "       ...,\n",
       "       [1, 1, 1, ..., 0, 0, 0],\n",
       "       [1, 1, 1, ..., 0, 0, 0],\n",
       "       [1, 1, 1, ..., 0, 0, 0]])"
      ]
     },
     "execution_count": 29,
     "metadata": {},
     "output_type": "execute_result"
    }
   ],
   "source": [
    "attention_masks # 마스크처리된 데이터"
   ]
  },
  {
   "cell_type": "code",
   "execution_count": 30,
   "id": "8591774d",
   "metadata": {},
   "outputs": [
    {
     "data": {
      "text/plain": [
       "array([0, 1, 1, ..., 4, 1, 1])"
      ]
     },
     "execution_count": 30,
     "metadata": {},
     "output_type": "execute_result"
    }
   ],
   "source": [
    "labels # 문장당 레이블(5 가지 척도)"
   ]
  },
  {
   "cell_type": "code",
   "execution_count": 31,
   "id": "b1bcdd70",
   "metadata": {},
   "outputs": [
    {
     "name": "stdout",
     "output_type": "stream",
     "text": [
      "Train inp shape (1238, 64) Val input shape (310, 64)\n",
      "Train label shape (1238,) Val label shape (310,)\n",
      "Train attention mask shape (1238, 64) Val attention mask shape (310, 64)\n"
     ]
    }
   ],
   "source": [
    "train_inp,val_inp,train_label,val_label,train_mask,val_mask=train_test_split(input_ids,labels,attention_masks,test_size=0.2)\n",
    "\n",
    "print('Train inp shape {} Val input shape {}\\nTrain label shape {} Val label shape {}\\nTrain attention mask shape {} Val attention mask shape {}'.format(train_inp.shape,val_inp.shape,train_label.shape,val_label.shape,train_mask.shape,val_mask.shape))"
   ]
  },
  {
   "cell_type": "code",
   "execution_count": 32,
   "id": "064503d1",
   "metadata": {},
   "outputs": [],
   "source": [
    "# 예측에 사용하는 데이터\n",
    "\n",
    "# input_ids : val_inp    --> 입력문장\n",
    "# val_mask --> 마스크처리된 단어"
   ]
  },
  {
   "cell_type": "code",
   "execution_count": 33,
   "id": "03b9fedf",
   "metadata": {},
   "outputs": [
    {
     "data": {
      "text/plain": [
       "array([[  101,  3389,  8376, ...,     0,     0,     0],\n",
       "       [  101,  2502,  4119, ...,     0,     0,     0],\n",
       "       [  101,  7928, 10187, ...,     0,     0,     0],\n",
       "       ...,\n",
       "       [  101, 10622,  2742, ...,     0,     0,     0],\n",
       "       [  101,  2738,  6698, ...,     0,     0,     0],\n",
       "       [  101,  2773,  2613, ...,     0,     0,     0]])"
      ]
     },
     "execution_count": 33,
     "metadata": {},
     "output_type": "execute_result"
    }
   ],
   "source": [
    "val_inp"
   ]
  },
  {
   "cell_type": "code",
   "execution_count": 34,
   "id": "3bedef57",
   "metadata": {},
   "outputs": [
    {
     "data": {
      "text/plain": [
       "(310, 64)"
      ]
     },
     "execution_count": 34,
     "metadata": {},
     "output_type": "execute_result"
    }
   ],
   "source": [
    "val_inp.shape"
   ]
  },
  {
   "cell_type": "code",
   "execution_count": 35,
   "id": "c9608d9a",
   "metadata": {},
   "outputs": [
    {
     "data": {
      "text/plain": [
       "array([1, 1, 0, 4, 0, 0, 0, 0, 1, 0, 0, 1, 0, 0, 0, 4, 4, 1, 4, 0, 1, 4,\n",
       "       0, 1, 4, 1, 1, 1, 0, 0, 0, 4, 0, 0, 1, 1, 1, 4, 1, 1, 4, 0, 1, 0,\n",
       "       0, 0, 1, 4, 1, 4, 1, 1, 3, 1, 0, 2, 1, 1, 2, 1, 4, 1, 2, 1, 1, 0,\n",
       "       1, 2, 1, 0, 1, 1, 0, 0, 0, 4, 1, 0, 4, 1, 2, 4, 1, 1, 1, 1, 3, 1,\n",
       "       0, 1, 1, 1, 1, 1, 0, 0, 1, 4, 1, 1, 1, 0, 1, 0, 0, 0, 1, 1, 1, 0,\n",
       "       0, 1, 1, 1, 0, 0, 2, 1, 1, 3, 1, 0, 4, 0, 0, 4, 1, 0, 1, 1, 0, 0,\n",
       "       2, 0, 0, 1, 4, 0, 0, 1, 0, 4, 1, 1, 1, 0, 2, 0, 1, 1, 1, 1, 4, 0,\n",
       "       1, 3, 1, 0, 2, 1, 0, 1, 0, 2, 1, 1, 4, 1, 1, 1, 0, 0, 1, 4, 1, 0,\n",
       "       0, 4, 0, 4, 1, 0, 1, 1, 4, 1, 4, 1, 0, 4, 1, 1, 0, 1, 0, 4, 0, 0,\n",
       "       4, 1, 1, 1, 2, 1, 1, 3, 1, 1, 1, 4, 1, 1, 2, 1, 1, 1, 4, 1, 0, 1,\n",
       "       1, 4, 1, 0, 1, 0, 1, 1, 1, 0, 1, 0, 0, 0, 0, 1, 1, 1, 0, 1, 4, 1,\n",
       "       3, 0, 0, 0, 1, 0, 1, 1, 4, 1, 1, 0, 1, 2, 0, 4, 3, 2, 2, 1, 0, 3,\n",
       "       1, 4, 4, 1, 4, 4, 2, 0, 0, 4, 0, 4, 1, 4, 4, 0, 1, 1, 0, 1, 2, 0,\n",
       "       0, 1, 4, 2, 0, 0, 0, 0, 1, 1, 1, 1, 4, 0, 0, 1, 4, 0, 1, 0, 3, 0,\n",
       "       0, 1])"
      ]
     },
     "execution_count": 35,
     "metadata": {},
     "output_type": "execute_result"
    }
   ],
   "source": [
    "val_label"
   ]
  },
  {
   "cell_type": "code",
   "execution_count": 36,
   "id": "2e4c9b51",
   "metadata": {},
   "outputs": [
    {
     "data": {
      "text/plain": [
       "(310,)"
      ]
     },
     "execution_count": 36,
     "metadata": {},
     "output_type": "execute_result"
    }
   ],
   "source": [
    "val_label.shape"
   ]
  },
  {
   "cell_type": "code",
   "execution_count": 37,
   "id": "495e88cf",
   "metadata": {},
   "outputs": [
    {
     "data": {
      "text/plain": [
       "array([[1, 1, 1, ..., 0, 0, 0],\n",
       "       [1, 1, 1, ..., 0, 0, 0],\n",
       "       [1, 1, 1, ..., 0, 0, 0],\n",
       "       ...,\n",
       "       [1, 1, 1, ..., 0, 0, 0],\n",
       "       [1, 1, 1, ..., 0, 0, 0],\n",
       "       [1, 1, 1, ..., 0, 0, 0]])"
      ]
     },
     "execution_count": 37,
     "metadata": {},
     "output_type": "execute_result"
    }
   ],
   "source": [
    "val_mask"
   ]
  },
  {
   "cell_type": "code",
   "execution_count": 38,
   "id": "2acc97cc",
   "metadata": {},
   "outputs": [
    {
     "data": {
      "text/plain": [
       "(310, 64)"
      ]
     },
     "execution_count": 38,
     "metadata": {},
     "output_type": "execute_result"
    }
   ],
   "source": [
    "val_mask.shape"
   ]
  },
  {
   "cell_type": "code",
   "execution_count": 39,
   "id": "f80a18fc",
   "metadata": {},
   "outputs": [
    {
     "name": "stdout",
     "output_type": "stream",
     "text": [
      "Model: \"tf_bert_for_sequence_classification\"\n",
      "_________________________________________________________________\n",
      "Layer (type)                 Output Shape              Param #   \n",
      "=================================================================\n",
      "bert (TFBertMainLayer)       multiple                  109482240 \n",
      "_________________________________________________________________\n",
      "dropout_37 (Dropout)         multiple                  0         \n",
      "_________________________________________________________________\n",
      "classifier (Dense)           multiple                  3845      \n",
      "=================================================================\n",
      "Total params: 109,486,085\n",
      "Trainable params: 109,486,085\n",
      "Non-trainable params: 0\n",
      "_________________________________________________________________\n",
      "\n",
      "Bert Model None\n"
     ]
    }
   ],
   "source": [
    "log_dir='tensorboard_data/tb_bert'\n",
    "model_save_path='./models/bert_model.h5'\n",
    "\n",
    "callbacks = [tf.keras.callbacks.ModelCheckpoint(filepath=model_save_path,save_weights_only=True,monitor='val_loss',mode='min',save_best_only=True),keras.callbacks.TensorBoard(log_dir=log_dir)]\n",
    "\n",
    "print('\\nBert Model',bert_model.summary())\n",
    "\n",
    "loss = tf.keras.losses.SparseCategoricalCrossentropy(from_logits=True)\n",
    "metric = tf.keras.metrics.SparseCategoricalAccuracy('accuracy')\n",
    "optimizer = tf.keras.optimizers.Adam(learning_rate=2e-5,epsilon=1e-08)\n",
    "\n",
    "bert_model.compile(loss=loss,optimizer=optimizer,metrics=[metric])\n"
   ]
  },
  {
   "cell_type": "code",
   "execution_count": 28,
   "id": "9b89c337",
   "metadata": {},
   "outputs": [
    {
     "name": "stdout",
     "output_type": "stream",
     "text": [
      "Epoch 1/40\n",
      "WARNING:tensorflow:The parameters `output_attentions`, `output_hidden_states` and `use_cache` cannot be updated when calling a model.They have to be set to True/False in the config object (i.e.: `config=XConfig.from_pretrained('name', output_attentions=True)`).\n",
      "WARNING:tensorflow:AutoGraph could not transform <bound method Socket.send of <zmq.sugar.socket.Socket object at 0x7f8787e5c460>> and will run it as-is.\n",
      "Please report this to the TensorFlow team. When filing the bug, set the verbosity to 10 (on Linux, `export AUTOGRAPH_VERBOSITY=10`) and attach the full output.\n",
      "Cause: module, class, method, function, traceback, frame, or code object was expected, got cython_function_or_method\n",
      "To silence this warning, decorate the function with @tf.autograph.experimental.do_not_convert\n",
      "WARNING: AutoGraph could not transform <bound method Socket.send of <zmq.sugar.socket.Socket object at 0x7f8787e5c460>> and will run it as-is.\n",
      "Please report this to the TensorFlow team. When filing the bug, set the verbosity to 10 (on Linux, `export AUTOGRAPH_VERBOSITY=10`) and attach the full output.\n",
      "Cause: module, class, method, function, traceback, frame, or code object was expected, got cython_function_or_method\n",
      "To silence this warning, decorate the function with @tf.autograph.experimental.do_not_convert\n",
      "WARNING:tensorflow:The parameter `return_dict` cannot be set in graph mode and will always be set to `True`.\n",
      "WARNING:tensorflow:From /Users/kimkwangil/opt/anaconda3/envs/py38pytorch/lib/python3.8/site-packages/tensorflow/python/ops/array_ops.py:5043: calling gather (from tensorflow.python.ops.array_ops) with validate_indices is deprecated and will be removed in a future version.\n",
      "Instructions for updating:\n",
      "The `validate_indices` argument has no effect. Indices are always validated on CPU and never validated on GPU.\n",
      "WARNING:tensorflow:The parameters `output_attentions`, `output_hidden_states` and `use_cache` cannot be updated when calling a model.They have to be set to True/False in the config object (i.e.: `config=XConfig.from_pretrained('name', output_attentions=True)`).\n",
      "WARNING:tensorflow:The parameter `return_dict` cannot be set in graph mode and will always be set to `True`.\n",
      "39/39 [==============================] - ETA: 0s - loss: 1.2654 - accuracy: 0.4830WARNING:tensorflow:The parameters `output_attentions`, `output_hidden_states` and `use_cache` cannot be updated when calling a model.They have to be set to True/False in the config object (i.e.: `config=XConfig.from_pretrained('name', output_attentions=True)`).\n",
      "WARNING:tensorflow:The parameter `return_dict` cannot be set in graph mode and will always be set to `True`.\n",
      "39/39 [==============================] - 182s 4s/step - loss: 1.2654 - accuracy: 0.4830 - val_loss: 1.1255 - val_accuracy: 0.4645\n",
      "Epoch 2/40\n",
      "39/39 [==============================] - 159s 4s/step - loss: 0.9781 - accuracy: 0.6688 - val_loss: 0.8531 - val_accuracy: 0.7323\n",
      "Epoch 3/40\n",
      "39/39 [==============================] - 159s 4s/step - loss: 0.6440 - accuracy: 0.8086 - val_loss: 0.6316 - val_accuracy: 0.7903\n",
      "Epoch 4/40\n",
      "39/39 [==============================] - 159s 4s/step - loss: 0.3508 - accuracy: 0.9095 - val_loss: 0.5199 - val_accuracy: 0.8355\n",
      "Epoch 5/40\n",
      "39/39 [==============================] - 159s 4s/step - loss: 0.2090 - accuracy: 0.9515 - val_loss: 0.5561 - val_accuracy: 0.8323\n",
      "Epoch 6/40\n",
      "39/39 [==============================] - 159s 4s/step - loss: 0.1260 - accuracy: 0.9733 - val_loss: 0.5747 - val_accuracy: 0.8452\n",
      "Epoch 7/40\n",
      "39/39 [==============================] - 159s 4s/step - loss: 0.0816 - accuracy: 0.9871 - val_loss: 0.6302 - val_accuracy: 0.8323\n",
      "Epoch 8/40\n",
      "39/39 [==============================] - 159s 4s/step - loss: 0.0534 - accuracy: 0.9919 - val_loss: 0.5917 - val_accuracy: 0.8548\n",
      "Epoch 9/40\n",
      "39/39 [==============================] - 159s 4s/step - loss: 0.0406 - accuracy: 0.9927 - val_loss: 0.7061 - val_accuracy: 0.8323\n",
      "Epoch 10/40\n",
      "39/39 [==============================] - 159s 4s/step - loss: 0.0326 - accuracy: 0.9952 - val_loss: 0.9082 - val_accuracy: 0.8097\n",
      "Epoch 11/40\n",
      "39/39 [==============================] - 159s 4s/step - loss: 0.0423 - accuracy: 0.9911 - val_loss: 0.6600 - val_accuracy: 0.8355\n",
      "Epoch 12/40\n",
      "39/39 [==============================] - 159s 4s/step - loss: 0.0257 - accuracy: 0.9976 - val_loss: 0.7691 - val_accuracy: 0.8226\n",
      "Epoch 13/40\n",
      "39/39 [==============================] - 159s 4s/step - loss: 0.0175 - accuracy: 0.9976 - val_loss: 0.7622 - val_accuracy: 0.8258\n",
      "Epoch 14/40\n",
      "39/39 [==============================] - 159s 4s/step - loss: 0.0151 - accuracy: 0.9984 - val_loss: 0.7209 - val_accuracy: 0.8548\n",
      "Epoch 15/40\n",
      "39/39 [==============================] - 160s 4s/step - loss: 0.0118 - accuracy: 0.9984 - val_loss: 0.7196 - val_accuracy: 0.8516\n",
      "Epoch 16/40\n",
      "39/39 [==============================] - 161s 4s/step - loss: 0.0097 - accuracy: 0.9992 - val_loss: 0.7392 - val_accuracy: 0.8419\n",
      "Epoch 17/40\n",
      "39/39 [==============================] - 162s 4s/step - loss: 0.0087 - accuracy: 0.9992 - val_loss: 0.7538 - val_accuracy: 0.8355\n",
      "Epoch 18/40\n",
      "39/39 [==============================] - 160s 4s/step - loss: 0.0073 - accuracy: 0.9992 - val_loss: 0.7592 - val_accuracy: 0.8419\n",
      "Epoch 19/40\n",
      "39/39 [==============================] - 162s 4s/step - loss: 0.0073 - accuracy: 0.9992 - val_loss: 0.7806 - val_accuracy: 0.8419\n",
      "Epoch 20/40\n",
      "39/39 [==============================] - 161s 4s/step - loss: 0.0069 - accuracy: 0.9992 - val_loss: 0.7852 - val_accuracy: 0.8452\n",
      "Epoch 21/40\n",
      "39/39 [==============================] - 161s 4s/step - loss: 0.0064 - accuracy: 0.9992 - val_loss: 0.8021 - val_accuracy: 0.8355\n",
      "Epoch 22/40\n",
      "39/39 [==============================] - 160s 4s/step - loss: 0.0097 - accuracy: 0.9976 - val_loss: 0.9042 - val_accuracy: 0.8129\n",
      "Epoch 23/40\n",
      "39/39 [==============================] - 161s 4s/step - loss: 0.0620 - accuracy: 0.9806 - val_loss: 0.7104 - val_accuracy: 0.8194\n",
      "Epoch 24/40\n",
      "39/39 [==============================] - 161s 4s/step - loss: 0.0223 - accuracy: 0.9943 - val_loss: 0.7286 - val_accuracy: 0.8290\n",
      "Epoch 25/40\n",
      "39/39 [==============================] - 161s 4s/step - loss: 0.0202 - accuracy: 0.9935 - val_loss: 0.8019 - val_accuracy: 0.8419\n",
      "Epoch 26/40\n",
      "39/39 [==============================] - 161s 4s/step - loss: 0.0203 - accuracy: 0.9935 - val_loss: 0.7936 - val_accuracy: 0.8194\n",
      "Epoch 27/40\n",
      "39/39 [==============================] - 161s 4s/step - loss: 0.0225 - accuracy: 0.9935 - val_loss: 0.7999 - val_accuracy: 0.8290\n",
      "Epoch 28/40\n",
      "39/39 [==============================] - 161s 4s/step - loss: 0.0093 - accuracy: 0.9984 - val_loss: 0.7746 - val_accuracy: 0.8258\n",
      "Epoch 29/40\n",
      "39/39 [==============================] - 161s 4s/step - loss: 0.0094 - accuracy: 0.9976 - val_loss: 0.7728 - val_accuracy: 0.8258\n",
      "Epoch 30/40\n",
      "39/39 [==============================] - 161s 4s/step - loss: 0.0049 - accuracy: 0.9992 - val_loss: 0.8020 - val_accuracy: 0.8355\n",
      "Epoch 31/40\n",
      "39/39 [==============================] - 161s 4s/step - loss: 0.0078 - accuracy: 0.9992 - val_loss: 0.8032 - val_accuracy: 0.8419\n",
      "Epoch 32/40\n",
      "39/39 [==============================] - 161s 4s/step - loss: 0.0094 - accuracy: 0.9984 - val_loss: 0.8392 - val_accuracy: 0.8355\n",
      "Epoch 33/40\n",
      "39/39 [==============================] - 161s 4s/step - loss: 0.0046 - accuracy: 0.9992 - val_loss: 0.8362 - val_accuracy: 0.8323\n",
      "Epoch 34/40\n",
      "39/39 [==============================] - 161s 4s/step - loss: 0.0135 - accuracy: 0.9976 - val_loss: 0.9350 - val_accuracy: 0.8194\n",
      "Epoch 35/40\n",
      "39/39 [==============================] - 161s 4s/step - loss: 0.0105 - accuracy: 0.9968 - val_loss: 0.8541 - val_accuracy: 0.8323\n",
      "Epoch 36/40\n",
      "39/39 [==============================] - 161s 4s/step - loss: 0.0081 - accuracy: 0.9984 - val_loss: 1.1504 - val_accuracy: 0.8000\n",
      "Epoch 37/40\n",
      "39/39 [==============================] - 161s 4s/step - loss: 0.0252 - accuracy: 0.9935 - val_loss: 0.7987 - val_accuracy: 0.8484\n",
      "Epoch 38/40\n",
      "39/39 [==============================] - 161s 4s/step - loss: 0.0079 - accuracy: 0.9976 - val_loss: 0.8364 - val_accuracy: 0.8452\n",
      "Epoch 39/40\n",
      "39/39 [==============================] - 161s 4s/step - loss: 0.0052 - accuracy: 0.9984 - val_loss: 0.9109 - val_accuracy: 0.8355\n",
      "Epoch 40/40\n",
      "39/39 [==============================] - 161s 4s/step - loss: 0.0042 - accuracy: 0.9992 - val_loss: 0.8926 - val_accuracy: 0.8323\n"
     ]
    }
   ],
   "source": [
    "\n",
    "history=bert_model.fit([train_inp,train_mask],train_label,batch_size=32,epochs=40,validation_data=([val_inp,val_mask],val_label),callbacks=callbacks)"
   ]
  },
  {
   "cell_type": "code",
   "execution_count": 29,
   "id": "e3e6e091",
   "metadata": {},
   "outputs": [],
   "source": [
    "%load_ext tensorboard"
   ]
  },
  {
   "cell_type": "code",
   "execution_count": 32,
   "id": "a5de9d4f",
   "metadata": {},
   "outputs": [
    {
     "data": {
      "text/plain": [
       "Reusing TensorBoard on port 6006 (pid 7805), started 0:28:50 ago. (Use '!kill 7805' to kill it.)"
      ]
     },
     "metadata": {},
     "output_type": "display_data"
    },
    {
     "data": {
      "text/html": [
       "\n",
       "      <iframe id=\"tensorboard-frame-fbde1a30503f1a50\" width=\"100%\" height=\"800\" frameborder=\"0\">\n",
       "      </iframe>\n",
       "      <script>\n",
       "        (function() {\n",
       "          const frame = document.getElementById(\"tensorboard-frame-fbde1a30503f1a50\");\n",
       "          const url = new URL(\"/\", window.location);\n",
       "          const port = 6006;\n",
       "          if (port) {\n",
       "            url.port = port;\n",
       "          }\n",
       "          frame.src = url;\n",
       "        })();\n",
       "      </script>\n",
       "    "
      ],
      "text/plain": [
       "<IPython.core.display.HTML object>"
      ]
     },
     "metadata": {},
     "output_type": "display_data"
    }
   ],
   "source": [
    "log_dir='tensorboard_data/bert_model'\n",
    "%tensorboard --logdir {log_dir}"
   ]
  },
  {
   "cell_type": "code",
   "execution_count": 40,
   "id": "6df5783c",
   "metadata": {},
   "outputs": [
    {
     "name": "stderr",
     "output_type": "stream",
     "text": [
      "All model checkpoint layers were used when initializing TFBertForSequenceClassification.\n",
      "\n",
      "Some layers of TFBertForSequenceClassification were not initialized from the model checkpoint at bert-base-uncased and are newly initialized: ['classifier']\n",
      "You should probably TRAIN this model on a down-stream task to be able to use it for predictions and inference.\n"
     ]
    },
    {
     "name": "stdout",
     "output_type": "stream",
     "text": [
      "WARNING:tensorflow:The parameters `output_attentions`, `output_hidden_states` and `use_cache` cannot be updated when calling a model.They have to be set to True/False in the config object (i.e.: `config=XConfig.from_pretrained('name', output_attentions=True)`).\n",
      "WARNING:tensorflow:AutoGraph could not transform <bound method Socket.send of <zmq.sugar.socket.Socket object at 0x7ff110d5f2e0>> and will run it as-is.\n",
      "Please report this to the TensorFlow team. When filing the bug, set the verbosity to 10 (on Linux, `export AUTOGRAPH_VERBOSITY=10`) and attach the full output.\n",
      "Cause: module, class, method, function, traceback, frame, or code object was expected, got cython_function_or_method\n",
      "To silence this warning, decorate the function with @tf.autograph.experimental.do_not_convert\n",
      "WARNING: AutoGraph could not transform <bound method Socket.send of <zmq.sugar.socket.Socket object at 0x7ff110d5f2e0>> and will run it as-is.\n",
      "Please report this to the TensorFlow team. When filing the bug, set the verbosity to 10 (on Linux, `export AUTOGRAPH_VERBOSITY=10`) and attach the full output.\n",
      "Cause: module, class, method, function, traceback, frame, or code object was expected, got cython_function_or_method\n",
      "To silence this warning, decorate the function with @tf.autograph.experimental.do_not_convert\n",
      "WARNING:tensorflow:The parameter `return_dict` cannot be set in graph mode and will always be set to `True`.\n",
      "WARNING:tensorflow:From /Users/kimkwangil/opt/anaconda3/envs/py38pytorch/lib/python3.8/site-packages/tensorflow/python/ops/array_ops.py:5043: calling gather (from tensorflow.python.ops.array_ops) with validate_indices is deprecated and will be removed in a future version.\n",
      "Instructions for updating:\n",
      "The `validate_indices` argument has no effect. Indices are always validated on CPU and never validated on GPU.\n",
      "preds: TFSequenceClassifierOutput(loss=None, logits=array([[-0.93124175,  2.8134732 , -0.75567746, -0.29249525, -0.792748  ],\n",
      "       [ 0.3801747 ,  2.8112464 , -1.6825435 , -1.0959249 , -0.44592   ],\n",
      "       [ 3.624926  , -0.9277107 , -0.74455607, -0.8208901 , -1.3067536 ],\n",
      "       ...,\n",
      "       [ 3.1775546 , -1.6478802 , -0.44030398, -0.44802153, -0.8610875 ],\n",
      "       [ 3.024775  , -1.2469497 , -0.49781314,  0.00724282, -1.3284651 ],\n",
      "       [-1.0334749 ,  3.9199395 , -1.356802  , -1.0024467 , -0.73241144]],\n",
      "      dtype=float32), hidden_states=None, attentions=None)\n",
      "<class 'transformers.modeling_tf_outputs.TFSequenceClassifierOutput'>\n",
      "preds_: [[-0.93124175  2.8134732  -0.75567746 -0.29249525 -0.792748  ]\n",
      " [ 0.3801747   2.8112464  -1.6825435  -1.0959249  -0.44592   ]\n",
      " [ 3.624926   -0.9277107  -0.74455607 -0.8208901  -1.3067536 ]\n",
      " ...\n",
      " [ 3.1775546  -1.6478802  -0.44030398 -0.44802153 -0.8610875 ]\n",
      " [ 3.024775   -1.2469497  -0.49781314  0.00724282 -1.3284651 ]\n",
      " [-1.0334749   3.9199395  -1.356802   -1.0024467  -0.73241144]]\n",
      "pred_labels [1 1 0 4 0 0 0 0 1 0 0 1 0 0 0 0 4 1 4 0 0 4 0 1 4 1 1 1 0 0 0 4 0 0 1 1 1\n",
      " 4 1 1 1 0 1 0 0 0 1 4 1 0 4 1 0 1 0 2 1 1 2 1 4 1 2 1 1 0 1 1 1 0 1 1 0 0\n",
      " 0 4 1 0 1 1 2 4 1 1 1 1 1 1 0 1 1 1 1 1 0 0 1 4 1 1 1 0 1 0 0 0 1 1 1 0 0\n",
      " 1 1 1 0 0 1 1 1 3 1 1 4 0 0 4 1 0 1 1 0 0 2 0 0 1 4 0 0 1 0 4 1 1 1 0 2 0\n",
      " 1 1 1 1 4 0 1 3 1 0 2 1 0 1 0 4 1 1 0 1 1 1 4 0 1 4 1 0 0 4 0 4 1 0 1 0 4\n",
      " 1 4 1 1 4 1 1 0 1 0 4 0 0 4 1 1 1 2 1 1 3 1 1 1 4 1 1 2 1 1 1 4 1 0 1 1 4\n",
      " 1 0 1 0 1 1 1 0 1 0 0 0 0 1 1 1 4 1 4 1 3 0 0 0 1 0 1 1 4 1 1 0 1 2 1 4 0\n",
      " 2 2 1 0 0 1 4 4 1 0 4 2 0 0 4 0 4 1 4 4 0 1 1 0 1 2 0 0 1 4 2 0 1 0 0 1 1\n",
      " 1 1 4 0 0 1 4 0 1 0 1 0 0 1]\n",
      "val_label [1 1 0 4 0 0 0 0 1 0 0 1 0 0 0 4 4 1 4 0 1 4 0 1 4 1 1 1 0 0 0 4 0 0 1 1 1\n",
      " 4 1 1 4 0 1 0 0 0 1 4 1 4 1 1 3 1 0 2 1 1 2 1 4 1 2 1 1 0 1 2 1 0 1 1 0 0\n",
      " 0 4 1 0 4 1 2 4 1 1 1 1 3 1 0 1 1 1 1 1 0 0 1 4 1 1 1 0 1 0 0 0 1 1 1 0 0\n",
      " 1 1 1 0 0 2 1 1 3 1 0 4 0 0 4 1 0 1 1 0 0 2 0 0 1 4 0 0 1 0 4 1 1 1 0 2 0\n",
      " 1 1 1 1 4 0 1 3 1 0 2 1 0 1 0 2 1 1 4 1 1 1 0 0 1 4 1 0 0 4 0 4 1 0 1 1 4\n",
      " 1 4 1 0 4 1 1 0 1 0 4 0 0 4 1 1 1 2 1 1 3 1 1 1 4 1 1 2 1 1 1 4 1 0 1 1 4\n",
      " 1 0 1 0 1 1 1 0 1 0 0 0 0 1 1 1 0 1 4 1 3 0 0 0 1 0 1 1 4 1 1 0 1 2 0 4 3\n",
      " 2 2 1 0 3 1 4 4 1 4 4 2 0 0 4 0 4 1 4 4 0 1 1 0 1 2 0 0 1 4 2 0 0 0 0 1 1\n",
      " 1 1 4 0 0 1 4 0 1 0 3 0 0 1]\n",
      "F1 score 0.9258064516129032\n",
      "Classification Report\n",
      "              precision    recall  f1-score   support\n",
      "\n",
      "        left       0.91      0.94      0.93       100\n",
      "   lean_left       0.93      0.98      0.95       136\n",
      "      center       1.00      0.83      0.91        18\n",
      "  lean_right       1.00      0.44      0.62         9\n",
      "       right       0.91      0.87      0.89        47\n",
      "\n",
      "    accuracy                           0.93       310\n",
      "   macro avg       0.95      0.81      0.86       310\n",
      "weighted avg       0.93      0.93      0.92       310\n",
      "\n",
      "Training and saving built model.....\n"
     ]
    }
   ],
   "source": [
    "\n",
    "model_save_path='./models/bert_model.h5'\n",
    "\n",
    "trained_model = TFBertForSequenceClassification.from_pretrained('bert-base-uncased',num_labels=5)\n",
    "trained_model.compile(loss=loss,optimizer=optimizer, metrics=[metric])\n",
    "trained_model.load_weights(model_save_path)\n",
    "\n",
    "preds = trained_model.predict([val_inp,val_mask],batch_size=32)\n",
    "print('preds:', preds)\n",
    "print(type(preds))\n",
    "preds = preds['logits']\n",
    "print('preds_:', preds)\n",
    "# import numpy as np\n",
    "# pred_labels = np.argmax(preds)\n",
    "pred_labels = preds.argmax(axis=1)\n",
    "print('pred_labels', pred_labels)\n",
    "print('val_label', val_label)\n",
    "\n",
    "f1 = f1_score(val_label,pred_labels, average='micro')\n",
    "print('F1 score',f1)\n",
    "print('Classification Report')\n",
    "target_names = ['left', 'lean_left', 'center', 'lean_right', 'right']\n",
    "print(classification_report(val_label,pred_labels,target_names=target_names))\n",
    "\n",
    "print('Training and saving built model.....')"
   ]
  },
  {
   "cell_type": "code",
   "execution_count": 47,
   "id": "695bfaf5",
   "metadata": {},
   "outputs": [],
   "source": [
    "# sentence label : center\n",
    "# sent_input = \"\"\"The U.S. Has said it will impose 300 mln dlrs of tariffs on\n",
    "#   imports of Japanese electronics goods on April 17, in\n",
    "#   retaliation for Japan's alleged failure to stick to a pact not\n",
    "#   to sell semiconductors on world markets at below cost.\"\"\"\n",
    "\n",
    "# sentnece label : lean_left\n",
    "\n",
    "sent_input = \"\"\"One Metropolitan Police officer who was beaten and tased during the riot, Michael Fanone, has advocated for the release of his body camera video and repeatedly criticized Republicans who've tried to downplay the violence during the insurrection.\"\"\"\n",
    "\n",
    "\n",
    "\n",
    "# 문장을 숫자로 바꾼다. 짧은 문장은 패딩처리하고, 토큰화 한다.\n",
    "bert_inp=bert_tokenizer.encode_plus(sent_input,add_special_tokens = True,max_length =64,pad_to_max_length = True,return_attention_mask = True)\n",
    "input_ids=bert_inp['input_ids']\n",
    "attention_masks= bert_inp['attention_mask']\n",
    "\n",
    "input_ids=np.asarray(input_ids)\n",
    "attention_masks=np.array(attention_masks)\n",
    "labels=np.array(labels)"
   ]
  },
  {
   "cell_type": "code",
   "execution_count": 48,
   "id": "c6dec295",
   "metadata": {},
   "outputs": [
    {
     "data": {
      "text/plain": [
       "{'input_ids': [101, 2028, 4956, 2610, 2961, 2040, 2001, 7854, 1998, 11937, 6924, 2076, 1996, 11421, 1010, 2745, 5470, 5643, 1010, 2038, 11886, 2005, 1996, 2713, 1997, 2010, 2303, 4950, 2678, 1998, 8385, 6367, 10643, 2040, 1005, 2310, 2699, 2000, 2091, 13068, 1996, 4808, 2076, 1996, 27860, 1012, 102, 0, 0, 0, 0, 0, 0, 0, 0, 0, 0, 0, 0, 0, 0, 0, 0, 0], 'token_type_ids': [0, 0, 0, 0, 0, 0, 0, 0, 0, 0, 0, 0, 0, 0, 0, 0, 0, 0, 0, 0, 0, 0, 0, 0, 0, 0, 0, 0, 0, 0, 0, 0, 0, 0, 0, 0, 0, 0, 0, 0, 0, 0, 0, 0, 0, 0, 0, 0, 0, 0, 0, 0, 0, 0, 0, 0, 0, 0, 0, 0, 0, 0, 0, 0], 'attention_mask': [1, 1, 1, 1, 1, 1, 1, 1, 1, 1, 1, 1, 1, 1, 1, 1, 1, 1, 1, 1, 1, 1, 1, 1, 1, 1, 1, 1, 1, 1, 1, 1, 1, 1, 1, 1, 1, 1, 1, 1, 1, 1, 1, 1, 1, 1, 1, 0, 0, 0, 0, 0, 0, 0, 0, 0, 0, 0, 0, 0, 0, 0, 0, 0]}"
      ]
     },
     "execution_count": 48,
     "metadata": {},
     "output_type": "execute_result"
    }
   ],
   "source": [
    "bert_inp"
   ]
  },
  {
   "cell_type": "code",
   "execution_count": 49,
   "id": "9720a9c1",
   "metadata": {},
   "outputs": [
    {
     "data": {
      "text/plain": [
       "array([  101,  2028,  4956,  2610,  2961,  2040,  2001,  7854,  1998,\n",
       "       11937,  6924,  2076,  1996, 11421,  1010,  2745,  5470,  5643,\n",
       "        1010,  2038, 11886,  2005,  1996,  2713,  1997,  2010,  2303,\n",
       "        4950,  2678,  1998,  8385,  6367, 10643,  2040,  1005,  2310,\n",
       "        2699,  2000,  2091, 13068,  1996,  4808,  2076,  1996, 27860,\n",
       "        1012,   102,     0,     0,     0,     0,     0,     0,     0,\n",
       "           0,     0,     0,     0,     0,     0,     0,     0,     0,\n",
       "           0])"
      ]
     },
     "execution_count": 49,
     "metadata": {},
     "output_type": "execute_result"
    }
   ],
   "source": [
    "input_ids"
   ]
  },
  {
   "cell_type": "code",
   "execution_count": 50,
   "id": "60830914",
   "metadata": {},
   "outputs": [
    {
     "data": {
      "text/plain": [
       "array([1, 1, 1, 1, 1, 1, 1, 1, 1, 1, 1, 1, 1, 1, 1, 1, 1, 1, 1, 1, 1, 1,\n",
       "       1, 1, 1, 1, 1, 1, 1, 1, 1, 1, 1, 1, 1, 1, 1, 1, 1, 1, 1, 1, 1, 1,\n",
       "       1, 1, 1, 0, 0, 0, 0, 0, 0, 0, 0, 0, 0, 0, 0, 0, 0, 0, 0, 0])"
      ]
     },
     "execution_count": 50,
     "metadata": {},
     "output_type": "execute_result"
    }
   ],
   "source": [
    "attention_masks"
   ]
  },
  {
   "cell_type": "code",
   "execution_count": 51,
   "id": "4487baa0",
   "metadata": {},
   "outputs": [
    {
     "name": "stdout",
     "output_type": "stream",
     "text": [
      "prieds'logit': [[-5.24842553e-02  1.82543397e+00 -8.46833169e-01 -8.44775960e-02\n",
      "  -8.40243936e-01]\n",
      " [-2.85867602e-01  1.35519576e+00 -5.65001607e-01 -9.64295641e-02\n",
      "  -5.01159430e-01]\n",
      " [-1.01913393e+00  5.30431330e-01  3.40114504e-01  3.43670785e-01\n",
      "  -2.79483706e-01]\n",
      " [-9.07833874e-01  2.50474215e-01  5.33834457e-01  3.16946536e-01\n",
      "  -3.03752035e-01]\n",
      " [ 9.60471705e-02  1.96115315e+00 -7.30817020e-01 -5.89179575e-01\n",
      "  -8.70315433e-01]\n",
      " [-5.36861479e-01  1.08087969e+00 -3.28828782e-01  5.79277091e-02\n",
      "  -3.00352991e-01]\n",
      " [-3.36623937e-01  2.44781446e+00 -9.46398914e-01 -5.31451285e-01\n",
      "  -5.83607852e-01]\n",
      " [-7.04245627e-01  1.97341704e+00 -1.73900828e-01 -1.10629730e-01\n",
      "  -6.96813941e-01]\n",
      " [-6.08947933e-01  1.49358463e+00 -2.57193029e-01 -4.33791466e-02\n",
      "  -5.57025433e-01]\n",
      " [ 4.46318507e-01  2.23049116e+00 -1.29007757e+00 -6.60751998e-01\n",
      "  -1.01215112e+00]\n",
      " [-6.57604873e-01  2.24270090e-01  5.43115199e-01 -1.47137314e-03\n",
      "  -6.15595460e-01]\n",
      " [ 1.16619982e-01  6.91773653e-01 -2.20935345e-01 -1.18176490e-01\n",
      "  -7.52737403e-01]\n",
      " [-4.27720137e-02  8.19715798e-01 -2.43011802e-01  1.68685332e-01\n",
      "  -9.07829642e-01]\n",
      " [-9.63530168e-02  7.21372068e-01 -3.47690523e-01  1.11994110e-01\n",
      "  -5.49214602e-01]\n",
      " [-5.82763433e-01  1.11234736e+00  4.95257080e-02  1.73624396e-01\n",
      "  -7.74138331e-01]\n",
      " [-2.40529746e-01  1.39385700e+00 -5.05360186e-01  2.62295809e-02\n",
      "  -6.31639421e-01]\n",
      " [-8.63690138e-01  2.66319484e-01 -7.87744150e-02  8.23472440e-02\n",
      "   4.10509408e-01]\n",
      " [-3.89645696e-01  3.61183524e-01  1.44835696e-01 -3.13659817e-01\n",
      "  -1.25644907e-01]\n",
      " [-5.82763433e-01  1.11234736e+00  4.95257080e-02  1.73624396e-01\n",
      "  -7.74138331e-01]\n",
      " [ 3.46715033e-01  7.86223948e-01 -6.25014722e-01 -6.72102254e-03\n",
      "  -8.87628734e-01]\n",
      " [-1.71629846e-01  9.97589886e-01 -2.90470958e-01 -2.07995642e-02\n",
      "  -7.22498953e-01]\n",
      " [-3.92829061e-01  1.22141910e+00 -4.84374315e-01  1.62079036e-01\n",
      "  -5.75245857e-01]\n",
      " [-4.27720137e-02  8.19715798e-01 -2.43011802e-01  1.68685332e-01\n",
      "  -9.07829642e-01]\n",
      " [-9.88787949e-01  6.07862055e-01  6.92072064e-02 -7.41930902e-02\n",
      "   2.35545486e-01]\n",
      " [-1.02639484e+00  2.28165245e+00 -4.97186422e-01 -1.39314204e-01\n",
      "  -6.17213011e-01]\n",
      " [ 5.33832550e-01  1.39002466e+00 -4.25105482e-01 -2.62800723e-01\n",
      "  -1.26595938e+00]\n",
      " [-1.11192656e+00  6.92802131e-01  2.33564883e-01  2.67929286e-01\n",
      "  -1.15951166e-01]\n",
      " [ 1.54416829e-01  2.21741214e-01  7.07006082e-02  1.86702549e-01\n",
      "  -9.71799135e-01]\n",
      " [-5.58917940e-01  9.45255280e-01  1.06139377e-01 -2.12885082e-01\n",
      "  -3.81215751e-01]\n",
      " [-6.08947933e-01  1.49358463e+00 -2.57193029e-01 -4.33791466e-02\n",
      "  -5.57025433e-01]\n",
      " [ 1.85537040e-01  1.82074010e+00 -8.48016262e-01 -1.93511069e-01\n",
      "  -7.37828076e-01]\n",
      " [-1.02496457e+00  1.14313149e+00  2.10985482e-01  1.74107254e-01\n",
      "  -4.45222914e-01]\n",
      " [-3.04294825e-01  2.47748542e+00 -8.73682559e-01 -3.55319291e-01\n",
      "  -7.26604104e-01]\n",
      " [-5.36861479e-01  1.08087969e+00 -3.28828782e-01  5.79277091e-02\n",
      "  -3.00352991e-01]\n",
      " [-5.02846956e-01  2.05573392e+00 -8.34657729e-01 -6.96097966e-03\n",
      "  -8.14975500e-01]\n",
      " [-3.31343532e-01  1.46795189e+00 -1.82230949e-01 -2.12429881e-01\n",
      "  -6.13036096e-01]\n",
      " [-1.80921152e-01  2.49049616e+00 -1.08309031e+00 -3.76197070e-01\n",
      "  -6.25638306e-01]\n",
      " [-5.85997164e-01  1.75161183e+00 -4.67795670e-01 -9.24440399e-02\n",
      "  -7.94310510e-01]\n",
      " [ 7.43602738e-02  1.77114701e+00 -4.76520658e-01 -2.84471869e-01\n",
      "  -1.29888523e+00]\n",
      " [-1.24125451e-01  1.24574947e+00 -3.66474092e-01 -3.39607984e-01\n",
      "  -4.91364151e-01]\n",
      " [-4.27720137e-02  8.19715798e-01 -2.43011802e-01  1.68685332e-01\n",
      "  -9.07829642e-01]\n",
      " [-7.84832299e-01  1.64664102e+00 -1.00342305e-02 -2.78230906e-01\n",
      "  -4.96458530e-01]\n",
      " [ 1.16619982e-01  6.91773653e-01 -2.20935345e-01 -1.18176490e-01\n",
      "  -7.52737403e-01]\n",
      " [-4.27720137e-02  8.19715798e-01 -2.43011802e-01  1.68685332e-01\n",
      "  -9.07829642e-01]\n",
      " [-2.57095397e-01  7.83387303e-01  1.20412730e-01 -1.44768983e-01\n",
      "  -5.11912227e-01]\n",
      " [-1.40495896e-01  2.17356324e+00 -1.00618327e+00 -4.16738659e-01\n",
      "  -9.62917566e-01]\n",
      " [-8.14879119e-01  5.52429736e-01 -2.55287010e-02  7.71738589e-02\n",
      "   5.24258614e-01]\n",
      " [-1.80887848e-01  2.26289177e+00 -9.32147920e-01 -2.80899316e-01\n",
      "  -8.72515023e-01]\n",
      " [-1.80887848e-01  2.26289177e+00 -9.32147920e-01 -2.80899316e-01\n",
      "  -8.72515023e-01]\n",
      " [-1.80887848e-01  2.26289177e+00 -9.32147920e-01 -2.80899316e-01\n",
      "  -8.72515023e-01]\n",
      " [-1.80887848e-01  2.26289177e+00 -9.32147920e-01 -2.80899316e-01\n",
      "  -8.72515023e-01]\n",
      " [-1.80887848e-01  2.26289177e+00 -9.32147920e-01 -2.80899316e-01\n",
      "  -8.72515023e-01]\n",
      " [-1.80887848e-01  2.26289177e+00 -9.32147920e-01 -2.80899316e-01\n",
      "  -8.72515023e-01]\n",
      " [-1.80887848e-01  2.26289177e+00 -9.32147920e-01 -2.80899316e-01\n",
      "  -8.72515023e-01]\n",
      " [-1.80887848e-01  2.26289177e+00 -9.32147920e-01 -2.80899316e-01\n",
      "  -8.72515023e-01]\n",
      " [-1.80887848e-01  2.26289177e+00 -9.32147920e-01 -2.80899316e-01\n",
      "  -8.72515023e-01]\n",
      " [-1.80887848e-01  2.26289177e+00 -9.32147920e-01 -2.80899316e-01\n",
      "  -8.72515023e-01]\n",
      " [-1.80887848e-01  2.26289177e+00 -9.32147920e-01 -2.80899316e-01\n",
      "  -8.72515023e-01]\n",
      " [-1.80887848e-01  2.26289177e+00 -9.32147920e-01 -2.80899316e-01\n",
      "  -8.72515023e-01]\n",
      " [-1.80887848e-01  2.26289177e+00 -9.32147920e-01 -2.80899316e-01\n",
      "  -8.72515023e-01]\n",
      " [-1.80887848e-01  2.26289177e+00 -9.32147920e-01 -2.80899316e-01\n",
      "  -8.72515023e-01]\n",
      " [-1.80887848e-01  2.26289177e+00 -9.32147920e-01 -2.80899316e-01\n",
      "  -8.72515023e-01]\n",
      " [-1.80887178e-01  2.26289010e+00 -9.32146490e-01 -2.80898303e-01\n",
      "  -8.72515142e-01]\n",
      " [-1.80887178e-01  2.26289010e+00 -9.32146490e-01 -2.80898303e-01\n",
      "  -8.72515142e-01]]\n",
      "pred_labels [1 1 1 2 1 1 1 1 1 1 2 1 1 1 1 1 4 1 1 1 1 1 1 1 1 1 1 1 1 1 1 1 1 1 1 1 1\n",
      " 1 1 1 1 1 1 1 1 1 1 1 1 1 1 1 1 1 1 1 1 1 1 1 1 1 1 1]\n"
     ]
    }
   ],
   "source": [
    "# val_inp : input_ids\n",
    "# val_mask : attention_masks\n",
    "\n",
    "preds = trained_model.predict([input_ids,attention_masks],batch_size=32)\n",
    "preds = preds['logits'] # 시그모이드함수 적용하여 데이터의 결과를 두 그룹으로 분류해본다. 0 or 1\n",
    "print(\"prieds'logit':\", preds)\n",
    "pred_labels = preds.argmax(axis=1)\n",
    "print('pred_labels', pred_labels)"
   ]
  },
  {
   "cell_type": "code",
   "execution_count": 52,
   "id": "ab3bf0f5",
   "metadata": {},
   "outputs": [
    {
     "data": {
      "text/plain": [
       "numpy.ndarray"
      ]
     },
     "execution_count": 52,
     "metadata": {},
     "output_type": "execute_result"
    }
   ],
   "source": [
    "type(pred_labels)"
   ]
  },
  {
   "cell_type": "code",
   "execution_count": 85,
   "id": "68cedf4f",
   "metadata": {},
   "outputs": [
    {
     "data": {
      "image/png": "[encoded data removed]",
      "text/plain": [
       "<Figure size 432x288 with 1 Axes>"
      ]
     },
     "metadata": {
      "needs_background": "light"
     },
     "output_type": "display_data"
    }
   ],
   "source": [
    "plt.hist(pred_labels)\n",
    "\n",
    "plt.title(\"Political Compass AI\")\n",
    "\n",
    "\n",
    "plt.show()"
   ]
  },
  {
   "cell_type": "code",
   "execution_count": 89,
   "id": "14d61366",
   "metadata": {},
   "outputs": [
    {
     "data": {
      "text/plain": [
       "1"
      ]
     },
     "execution_count": 89,
     "metadata": {},
     "output_type": "execute_result"
    }
   ],
   "source": [
    "result = np.bincount(pred_labels)\n",
    "result = np.argmax(result)\n",
    "result"
   ]
  },
  {
   "cell_type": "code",
   "execution_count": 95,
   "id": "f6bc708d",
   "metadata": {},
   "outputs": [],
   "source": [
    "def get_political_compass(result):\n",
    "    if result == 0:\n",
    "        print('Left')\n",
    "        result = 'Left'\n",
    "    elif result == 1:\n",
    "        print('Lean_Left')\n",
    "        result = 'Lean_Left'\n",
    "    elif result == 2:\n",
    "        print('Center')\n",
    "        result = 'Center'\n",
    "    elif reulst == 3:\n",
    "        print('Lean_Right')\n",
    "        result = 'Lean_Right'\n",
    "    else:\n",
    "        print('Right')\n",
    "        result = 'Right'\n",
    "    return result"
   ]
  },
  {
   "cell_type": "code",
   "execution_count": 96,
   "id": "90758dd3",
   "metadata": {},
   "outputs": [
    {
     "name": "stdout",
     "output_type": "stream",
     "text": [
      "Lean_Left\n"
     ]
    }
   ],
   "source": [
    "Final_Result = get_political_compass(result)"
   ]
  },
  {
   "cell_type": "code",
   "execution_count": null,
   "id": "761f285e",
   "metadata": {},
   "outputs": [],
   "source": []
  }
 ],
 "metadata": {
  "kernelspec": {
   "display_name": "Python 3",
   "language": "python",
   "name": "python3"
  },
  "language_info": {
   "codemirror_mode": {
    "name": "ipython",
    "version": 3
   },
   "file_extension": ".py",
   "mimetype": "text/x-python",
   "name": "python",
   "nbconvert_exporter": "python",
   "pygments_lexer": "ipython3",
   "version": "3.8.10"
  }
 },
 "nbformat": 4,
 "nbformat_minor": 5
}
