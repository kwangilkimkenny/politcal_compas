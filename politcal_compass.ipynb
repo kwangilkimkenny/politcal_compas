{
 "cells": [
  {
   "cell_type": "code",
   "execution_count": 13,
   "id": "differential-salad",
   "metadata": {},
   "outputs": [],
   "source": [
    "import pandas as pd"
   ]
  },
  {
   "cell_type": "code",
   "execution_count": 14,
   "id": "parallel-czech",
   "metadata": {},
   "outputs": [
    {
     "name": "stderr",
     "output_type": "stream",
     "text": [
      "b'Skipping line 380: expected 1 fields, saw 2\\nSkipping line 381: expected 1 fields, saw 2\\nSkipping line 382: expected 1 fields, saw 2\\nSkipping line 1170: expected 1 fields, saw 2\\nSkipping line 1171: expected 1 fields, saw 2\\nSkipping line 1172: expected 1 fields, saw 2\\nSkipping line 1887: expected 1 fields, saw 2\\nSkipping line 2942: expected 1 fields, saw 2\\nSkipping line 3045: expected 1 fields, saw 2\\nSkipping line 3074: expected 1 fields, saw 2\\nSkipping line 3075: expected 1 fields, saw 2\\nSkipping line 3076: expected 1 fields, saw 2\\nSkipping line 3096: expected 1 fields, saw 2\\nSkipping line 3113: expected 1 fields, saw 2\\nSkipping line 3118: expected 1 fields, saw 2\\nSkipping line 3120: expected 1 fields, saw 2\\nSkipping line 3125: expected 1 fields, saw 2\\nSkipping line 3711: expected 1 fields, saw 2\\nSkipping line 3725: expected 1 fields, saw 2\\nSkipping line 3726: expected 1 fields, saw 2\\nSkipping line 4087: expected 1 fields, saw 2\\nSkipping line 4718: expected 1 fields, saw 2\\nSkipping line 4765: expected 1 fields, saw 2\\nSkipping line 4811: expected 1 fields, saw 2\\nSkipping line 5122: expected 1 fields, saw 2\\nSkipping line 5214: expected 1 fields, saw 2\\nSkipping line 5215: expected 1 fields, saw 2\\nSkipping line 5216: expected 1 fields, saw 2\\nSkipping line 5217: expected 1 fields, saw 2\\nSkipping line 5218: expected 1 fields, saw 2\\nSkipping line 5219: expected 1 fields, saw 2\\nSkipping line 5220: expected 1 fields, saw 2\\nSkipping line 5221: expected 1 fields, saw 2\\nSkipping line 5222: expected 1 fields, saw 2\\nSkipping line 5223: expected 1 fields, saw 2\\nSkipping line 5224: expected 1 fields, saw 2\\nSkipping line 5416: expected 1 fields, saw 2\\nSkipping line 5594: expected 1 fields, saw 2\\nSkipping line 5595: expected 1 fields, saw 2\\nSkipping line 5596: expected 1 fields, saw 2\\nSkipping line 6256: expected 1 fields, saw 2\\nSkipping line 6257: expected 1 fields, saw 2\\nSkipping line 6258: expected 1 fields, saw 2\\nSkipping line 7249: expected 1 fields, saw 2\\nSkipping line 7250: expected 1 fields, saw 2\\nSkipping line 7251: expected 1 fields, saw 2\\nSkipping line 7252: expected 1 fields, saw 2\\nSkipping line 8275: expected 1 fields, saw 2\\nSkipping line 8307: expected 1 fields, saw 2\\nSkipping line 8308: expected 1 fields, saw 2\\nSkipping line 8309: expected 1 fields, saw 2\\nSkipping line 8310: expected 1 fields, saw 2\\nSkipping line 8843: expected 1 fields, saw 2\\nSkipping line 8844: expected 1 fields, saw 2\\nSkipping line 8845: expected 1 fields, saw 2\\nSkipping line 8846: expected 1 fields, saw 2\\nSkipping line 9228: expected 1 fields, saw 2\\nSkipping line 9229: expected 1 fields, saw 2\\nSkipping line 10574: expected 1 fields, saw 2\\nSkipping line 10575: expected 1 fields, saw 2\\n'\n"
     ]
    }
   ],
   "source": [
    "data = pd.read_csv(r\"dataset.csv\", error_bad_lines=False)"
   ]
  },
  {
   "cell_type": "code",
   "execution_count": 15,
   "id": "outside-insulin",
   "metadata": {},
   "outputs": [
    {
     "data": {
      "text/plain": [
       "'/Users/kimkwangil/Documents/project/AI/political_compas'"
      ]
     },
     "execution_count": 15,
     "metadata": {},
     "output_type": "execute_result"
    }
   ],
   "source": [
    "pwd"
   ]
  },
  {
   "cell_type": "code",
   "execution_count": 16,
   "id": "southwest-asian",
   "metadata": {},
   "outputs": [
    {
     "name": "stdout",
     "output_type": "stream",
     "text": [
      "dataset.csv             politcal_compass.ipynb\r\n"
     ]
    }
   ],
   "source": [
    "ls"
   ]
  },
  {
   "cell_type": "code",
   "execution_count": null,
   "id": "reduced-railway",
   "metadata": {},
   "outputs": [],
   "source": []
  }
 ],
 "metadata": {
  "kernelspec": {
   "display_name": "Python 3",
   "language": "python",
   "name": "python3"
  },
  "language_info": {
   "codemirror_mode": {
    "name": "ipython",
    "version": 3
   },
   "file_extension": ".py",
   "mimetype": "text/x-python",
   "name": "python",
   "nbconvert_exporter": "python",
   "pygments_lexer": "ipython3",
   "version": "3.7.9"
  }
 },
 "nbformat": 4,
 "nbformat_minor": 5
}
