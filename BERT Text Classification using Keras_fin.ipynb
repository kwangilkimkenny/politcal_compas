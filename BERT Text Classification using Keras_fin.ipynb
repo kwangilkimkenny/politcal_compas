{
 "cells": [
  {
   "cell_type": "code",
   "execution_count": 97,
   "id": "4da1a0c6",
   "metadata": {},
   "outputs": [],
   "source": [
    "# BERT Text Classification using Keras\n",
    "\n",
    "# py37TF2 - home-imac"
   ]
  },
  {
   "cell_type": "code",
   "execution_count": 98,
   "id": "407e570a",
   "metadata": {},
   "outputs": [],
   "source": [
    "import tensorflow as tf\n",
    "import tensorflow_hub as hub\n",
    "import pandas as pd\n",
    "from sklearn.model_selection import train_test_split\n",
    "import numpy as np\n",
    "import re\n",
    "import unicodedata\n",
    "import nltk\n",
    "from nltk.corpus import stopwords\n",
    "import keras\n",
    "from tqdm import tqdm\n",
    "import pickle\n",
    "from keras.models import Model\n",
    "import keras.backend as K\n",
    "from sklearn.metrics import confusion_matrix,f1_score,classification_report\n",
    "import matplotlib.pyplot as plt\n",
    "from keras.callbacks import ModelCheckpoint\n",
    "import itertools\n",
    "from keras.models import load_model\n",
    "from sklearn.utils import shuffle\n",
    "from transformers import *\n",
    "from transformers import BertTokenizer, TFBertModel, BertConfig"
   ]
  },
  {
   "cell_type": "code",
   "execution_count": 99,
   "id": "f6d30373",
   "metadata": {},
   "outputs": [],
   "source": [
    "\n",
    "def unicode_to_ascii(s):\n",
    "    return ''.join(c for c in unicodedata.normalize('NFD', s) if unicodedata.category(c) != 'Mn')\n",
    "\n",
    "def clean_stopwords_shortwords(w):\n",
    "    stopwords_list=stopwords.words('english')\n",
    "    words = w.split() \n",
    "    clean_words = [word for word in words if (word not in stopwords_list) and len(word) > 2]\n",
    "    return \" \".join(clean_words) \n",
    "\n",
    "def preprocess_sentence(w):\n",
    "    w = unicode_to_ascii(w.lower().strip())\n",
    "    w = re.sub(r\"([?.!,¿])\", r\" \", w)\n",
    "    w = re.sub(r'[\" \"]+', \" \", w)\n",
    "    w = re.sub(r\"[^a-zA-Z?.!,¿]+\", \" \", w)\n",
    "    w=clean_stopwords_shortwords(w)\n",
    "    w=re.sub(r'@\\w+', '',w)\n",
    "    return w"
   ]
  },
  {
   "cell_type": "code",
   "execution_count": 100,
   "id": "4296bf8c",
   "metadata": {},
   "outputs": [],
   "source": [
    "data = pd.read_csv('./data_political_compass/political_compass_datasets.csv')"
   ]
  },
  {
   "cell_type": "code",
   "execution_count": 101,
   "id": "8b80d151",
   "metadata": {},
   "outputs": [
    {
     "data": {
      "text/html": [
       "<div>\n",
       "<style scoped>\n",
       "    .dataframe tbody tr th:only-of-type {\n",
       "        vertical-align: middle;\n",
       "    }\n",
       "\n",
       "    .dataframe tbody tr th {\n",
       "        vertical-align: top;\n",
       "    }\n",
       "\n",
       "    .dataframe thead th {\n",
       "        text-align: right;\n",
       "    }\n",
       "</style>\n",
       "<table border=\"1\" class=\"dataframe\">\n",
       "  <thead>\n",
       "    <tr style=\"text-align: right;\">\n",
       "      <th></th>\n",
       "      <th>Unnamed: 0</th>\n",
       "      <th>text</th>\n",
       "      <th>label</th>\n",
       "    </tr>\n",
       "  </thead>\n",
       "  <tbody>\n",
       "    <tr>\n",
       "      <th>0</th>\n",
       "      <td>0</td>\n",
       "      <td>ASIAN EXPORTERS FEAR DAMAGE FROM U.S.-JAPAN RI...</td>\n",
       "      <td>center</td>\n",
       "    </tr>\n",
       "    <tr>\n",
       "      <th>1</th>\n",
       "      <td>1</td>\n",
       "      <td>They told Reuter correspondents in Asian capit...</td>\n",
       "      <td>center</td>\n",
       "    </tr>\n",
       "    <tr>\n",
       "      <th>2</th>\n",
       "      <td>2</td>\n",
       "      <td>But some exporters said that while the conflic...</td>\n",
       "      <td>center</td>\n",
       "    </tr>\n",
       "    <tr>\n",
       "      <th>3</th>\n",
       "      <td>3</td>\n",
       "      <td>The U.S. Has said it will impose 300 mln dlrs ...</td>\n",
       "      <td>center</td>\n",
       "    </tr>\n",
       "    <tr>\n",
       "      <th>4</th>\n",
       "      <td>4</td>\n",
       "      <td>Unofficial Japanese estimates put the impact o...</td>\n",
       "      <td>center</td>\n",
       "    </tr>\n",
       "  </tbody>\n",
       "</table>\n",
       "</div>"
      ],
      "text/plain": [
       "   Unnamed: 0                                               text   label\n",
       "0           0  ASIAN EXPORTERS FEAR DAMAGE FROM U.S.-JAPAN RI...  center\n",
       "1           1  They told Reuter correspondents in Asian capit...  center\n",
       "2           2  But some exporters said that while the conflic...  center\n",
       "3           3  The U.S. Has said it will impose 300 mln dlrs ...  center\n",
       "4           4  Unofficial Japanese estimates put the impact o...  center"
      ]
     },
     "execution_count": 101,
     "metadata": {},
     "output_type": "execute_result"
    }
   ],
   "source": [
    "data.head()"
   ]
  },
  {
   "cell_type": "code",
   "execution_count": 102,
   "id": "0d5cee69",
   "metadata": {},
   "outputs": [
    {
     "name": "stdout",
     "output_type": "stream",
     "text": [
      "File has 1548 rows and 3 columns\n"
     ]
    }
   ],
   "source": [
    "print('File has {} rows and {} columns'.format(data.shape[0],data.shape[1]))"
   ]
  },
  {
   "cell_type": "code",
   "execution_count": 103,
   "id": "cc36a178",
   "metadata": {},
   "outputs": [],
   "source": [
    "# Select required columns\n",
    "data = data[['text', 'label']]"
   ]
  },
  {
   "cell_type": "code",
   "execution_count": 104,
   "id": "f08a4120",
   "metadata": {},
   "outputs": [
    {
     "data": {
      "text/html": [
       "<div>\n",
       "<style scoped>\n",
       "    .dataframe tbody tr th:only-of-type {\n",
       "        vertical-align: middle;\n",
       "    }\n",
       "\n",
       "    .dataframe tbody tr th {\n",
       "        vertical-align: top;\n",
       "    }\n",
       "\n",
       "    .dataframe thead th {\n",
       "        text-align: right;\n",
       "    }\n",
       "</style>\n",
       "<table border=\"1\" class=\"dataframe\">\n",
       "  <thead>\n",
       "    <tr style=\"text-align: right;\">\n",
       "      <th></th>\n",
       "      <th>text</th>\n",
       "      <th>label</th>\n",
       "    </tr>\n",
       "  </thead>\n",
       "  <tbody>\n",
       "    <tr>\n",
       "      <th>0</th>\n",
       "      <td>ASIAN EXPORTERS FEAR DAMAGE FROM U.S.-JAPAN RI...</td>\n",
       "      <td>center</td>\n",
       "    </tr>\n",
       "    <tr>\n",
       "      <th>1</th>\n",
       "      <td>They told Reuter correspondents in Asian capit...</td>\n",
       "      <td>center</td>\n",
       "    </tr>\n",
       "    <tr>\n",
       "      <th>2</th>\n",
       "      <td>But some exporters said that while the conflic...</td>\n",
       "      <td>center</td>\n",
       "    </tr>\n",
       "    <tr>\n",
       "      <th>3</th>\n",
       "      <td>The U.S. Has said it will impose 300 mln dlrs ...</td>\n",
       "      <td>center</td>\n",
       "    </tr>\n",
       "    <tr>\n",
       "      <th>4</th>\n",
       "      <td>Unofficial Japanese estimates put the impact o...</td>\n",
       "      <td>center</td>\n",
       "    </tr>\n",
       "  </tbody>\n",
       "</table>\n",
       "</div>"
      ],
      "text/plain": [
       "                                                text   label\n",
       "0  ASIAN EXPORTERS FEAR DAMAGE FROM U.S.-JAPAN RI...  center\n",
       "1  They told Reuter correspondents in Asian capit...  center\n",
       "2  But some exporters said that while the conflic...  center\n",
       "3  The U.S. Has said it will impose 300 mln dlrs ...  center\n",
       "4  Unofficial Japanese estimates put the impact o...  center"
      ]
     },
     "execution_count": 104,
     "metadata": {},
     "output_type": "execute_result"
    }
   ],
   "source": [
    "data.head()"
   ]
  },
  {
   "cell_type": "code",
   "execution_count": 105,
   "id": "d52fefb0",
   "metadata": {},
   "outputs": [],
   "source": [
    "# Remove rows, where the label is present only ones (can't be split)\n",
    "data = data.groupby('label').filter(lambda x : len(x) > 1)\n",
    "#data = data.groupby('Product').filter(lambda x : len(x) > 1)"
   ]
  },
  {
   "cell_type": "code",
   "execution_count": 106,
   "id": "d78e8a5e",
   "metadata": {},
   "outputs": [
    {
     "data": {
      "text/html": [
       "<div>\n",
       "<style scoped>\n",
       "    .dataframe tbody tr th:only-of-type {\n",
       "        vertical-align: middle;\n",
       "    }\n",
       "\n",
       "    .dataframe tbody tr th {\n",
       "        vertical-align: top;\n",
       "    }\n",
       "\n",
       "    .dataframe thead th {\n",
       "        text-align: right;\n",
       "    }\n",
       "</style>\n",
       "<table border=\"1\" class=\"dataframe\">\n",
       "  <thead>\n",
       "    <tr style=\"text-align: right;\">\n",
       "      <th></th>\n",
       "      <th>text</th>\n",
       "      <th>label</th>\n",
       "    </tr>\n",
       "  </thead>\n",
       "  <tbody>\n",
       "    <tr>\n",
       "      <th>0</th>\n",
       "      <td>ASIAN EXPORTERS FEAR DAMAGE FROM U.S.-JAPAN RI...</td>\n",
       "      <td>center</td>\n",
       "    </tr>\n",
       "    <tr>\n",
       "      <th>1</th>\n",
       "      <td>They told Reuter correspondents in Asian capit...</td>\n",
       "      <td>center</td>\n",
       "    </tr>\n",
       "    <tr>\n",
       "      <th>2</th>\n",
       "      <td>But some exporters said that while the conflic...</td>\n",
       "      <td>center</td>\n",
       "    </tr>\n",
       "    <tr>\n",
       "      <th>3</th>\n",
       "      <td>The U.S. Has said it will impose 300 mln dlrs ...</td>\n",
       "      <td>center</td>\n",
       "    </tr>\n",
       "    <tr>\n",
       "      <th>4</th>\n",
       "      <td>Unofficial Japanese estimates put the impact o...</td>\n",
       "      <td>center</td>\n",
       "    </tr>\n",
       "  </tbody>\n",
       "</table>\n",
       "</div>"
      ],
      "text/plain": [
       "                                                text   label\n",
       "0  ASIAN EXPORTERS FEAR DAMAGE FROM U.S.-JAPAN RI...  center\n",
       "1  They told Reuter correspondents in Asian capit...  center\n",
       "2  But some exporters said that while the conflic...  center\n",
       "3  The U.S. Has said it will impose 300 mln dlrs ...  center\n",
       "4  Unofficial Japanese estimates put the impact o...  center"
      ]
     },
     "execution_count": 106,
     "metadata": {},
     "output_type": "execute_result"
    }
   ],
   "source": [
    "data.head()"
   ]
  },
  {
   "cell_type": "code",
   "execution_count": 107,
   "id": "77fbfa0f",
   "metadata": {},
   "outputs": [
    {
     "data": {
      "text/html": [
       "<div>\n",
       "<style scoped>\n",
       "    .dataframe tbody tr th:only-of-type {\n",
       "        vertical-align: middle;\n",
       "    }\n",
       "\n",
       "    .dataframe tbody tr th {\n",
       "        vertical-align: top;\n",
       "    }\n",
       "\n",
       "    .dataframe thead th {\n",
       "        text-align: right;\n",
       "    }\n",
       "</style>\n",
       "<table border=\"1\" class=\"dataframe\">\n",
       "  <thead>\n",
       "    <tr style=\"text-align: right;\">\n",
       "      <th></th>\n",
       "      <th>text</th>\n",
       "      <th>label</th>\n",
       "    </tr>\n",
       "  </thead>\n",
       "  <tbody>\n",
       "    <tr>\n",
       "      <th>0</th>\n",
       "      <td>Is he trying to help Netanyahu win?</td>\n",
       "      <td>lean_left</td>\n",
       "    </tr>\n",
       "    <tr>\n",
       "      <th>1</th>\n",
       "      <td>(Sunday Alamba/AP</td>\n",
       "      <td>left</td>\n",
       "    </tr>\n",
       "    <tr>\n",
       "      <th>2</th>\n",
       "      <td>This has allowed France to sketch the way out ...</td>\n",
       "      <td>left</td>\n",
       "    </tr>\n",
       "    <tr>\n",
       "      <th>3</th>\n",
       "      <td>And he's also trying to play up his status as ...</td>\n",
       "      <td>lean_left</td>\n",
       "    </tr>\n",
       "    <tr>\n",
       "      <th>4</th>\n",
       "      <td>Yeah.</td>\n",
       "      <td>lean_left</td>\n",
       "    </tr>\n",
       "    <tr>\n",
       "      <th>...</th>\n",
       "      <td>...</td>\n",
       "      <td>...</td>\n",
       "    </tr>\n",
       "    <tr>\n",
       "      <th>1543</th>\n",
       "      <td>(Chris McGrath/Getty Images)\\nBrazil\\nBrazilia...</td>\n",
       "      <td>left</td>\n",
       "    </tr>\n",
       "    <tr>\n",
       "      <th>1544</th>\n",
       "      <td>And so it's still going to be a very long uphi...</td>\n",
       "      <td>lean_left</td>\n",
       "    </tr>\n",
       "    <tr>\n",
       "      <th>1545</th>\n",
       "      <td>And there were people in social media that sai...</td>\n",
       "      <td>lean_left</td>\n",
       "    </tr>\n",
       "    <tr>\n",
       "      <th>1546</th>\n",
       "      <td>And in a country like Uruguay that went throug...</td>\n",
       "      <td>lean_left</td>\n",
       "    </tr>\n",
       "    <tr>\n",
       "      <th>1547</th>\n",
       "      <td>The president said this action is necessary to...</td>\n",
       "      <td>lean_left</td>\n",
       "    </tr>\n",
       "  </tbody>\n",
       "</table>\n",
       "<p>1548 rows × 2 columns</p>\n",
       "</div>"
      ],
      "text/plain": [
       "                                                   text      label\n",
       "0                   Is he trying to help Netanyahu win?  lean_left\n",
       "1                                     (Sunday Alamba/AP       left\n",
       "2     This has allowed France to sketch the way out ...       left\n",
       "3     And he's also trying to play up his status as ...  lean_left\n",
       "4                                                 Yeah.  lean_left\n",
       "...                                                 ...        ...\n",
       "1543  (Chris McGrath/Getty Images)\\nBrazil\\nBrazilia...       left\n",
       "1544  And so it's still going to be a very long uphi...  lean_left\n",
       "1545  And there were people in social media that sai...  lean_left\n",
       "1546  And in a country like Uruguay that went throug...  lean_left\n",
       "1547  The president said this action is necessary to...  lean_left\n",
       "\n",
       "[1548 rows x 2 columns]"
      ]
     },
     "execution_count": 107,
     "metadata": {},
     "output_type": "execute_result"
    }
   ],
   "source": [
    "# shaffle datasets\n",
    "data = data.sample(frac=1).reset_index(drop=True)\n",
    "data"
   ]
  },
  {
   "cell_type": "code",
   "execution_count": 108,
   "id": "a852215d",
   "metadata": {},
   "outputs": [
    {
     "name": "stdout",
     "output_type": "stream",
     "text": [
      "Available labels:  ['lean_left' 'right' 'left' 'center' 'lean_right']\n"
     ]
    }
   ],
   "source": [
    "data=data.dropna()                                                           # Drop NaN valuues, if any\n",
    "data=data.reset_index(drop=True)                                             # Reset index after dropping the columns/rows with NaN values\n",
    "data = shuffle(data)                                                         # Shuffle the dataset\n",
    "print('Available labels: ',data.label.unique())                              # Print all the unique labels in the dataset\n",
    "data['text']=data['text'].map(preprocess_sentence)                           # Clean the text column using preprocess_sentence function defined above"
   ]
  },
  {
   "cell_type": "code",
   "execution_count": 109,
   "id": "b2cc662a",
   "metadata": {},
   "outputs": [
    {
     "name": "stdout",
     "output_type": "stream",
     "text": [
      "File has 1548 rows and 2 columns\n"
     ]
    },
    {
     "data": {
      "text/html": [
       "<div>\n",
       "<style scoped>\n",
       "    .dataframe tbody tr th:only-of-type {\n",
       "        vertical-align: middle;\n",
       "    }\n",
       "\n",
       "    .dataframe tbody tr th {\n",
       "        vertical-align: top;\n",
       "    }\n",
       "\n",
       "    .dataframe thead th {\n",
       "        text-align: right;\n",
       "    }\n",
       "</style>\n",
       "<table border=\"1\" class=\"dataframe\">\n",
       "  <thead>\n",
       "    <tr style=\"text-align: right;\">\n",
       "      <th></th>\n",
       "      <th>text</th>\n",
       "      <th>label</th>\n",
       "    </tr>\n",
       "  </thead>\n",
       "  <tbody>\n",
       "    <tr>\n",
       "      <th>234</th>\n",
       "      <td>election materials distributed speak</td>\n",
       "      <td>lean_left</td>\n",
       "    </tr>\n",
       "    <tr>\n",
       "      <th>208</th>\n",
       "      <td>annual deficits rise since big spike amid pand...</td>\n",
       "      <td>right</td>\n",
       "    </tr>\n",
       "    <tr>\n",
       "      <th>570</th>\n",
       "      <td>young queer immigrant woman united states real...</td>\n",
       "      <td>lean_left</td>\n",
       "    </tr>\n",
       "    <tr>\n",
       "      <th>1506</th>\n",
       "      <td>like really</td>\n",
       "      <td>lean_left</td>\n",
       "    </tr>\n",
       "    <tr>\n",
       "      <th>347</th>\n",
       "      <td>justice department charged least hundred peopl...</td>\n",
       "      <td>left</td>\n",
       "    </tr>\n",
       "  </tbody>\n",
       "</table>\n",
       "</div>"
      ],
      "text/plain": [
       "                                                   text      label\n",
       "234                election materials distributed speak  lean_left\n",
       "208   annual deficits rise since big spike amid pand...      right\n",
       "570   young queer immigrant woman united states real...  lean_left\n",
       "1506                                        like really  lean_left\n",
       "347   justice department charged least hundred peopl...       left"
      ]
     },
     "execution_count": 109,
     "metadata": {},
     "output_type": "execute_result"
    }
   ],
   "source": [
    "\n",
    "print('File has {} rows and {} columns'.format(data.shape[0],data.shape[1]))\n",
    "data.head()"
   ]
  },
  {
   "cell_type": "code",
   "execution_count": 110,
   "id": "7ce7762d",
   "metadata": {},
   "outputs": [
    {
     "data": {
      "text/plain": [
       "5"
      ]
     },
     "execution_count": 110,
     "metadata": {},
     "output_type": "execute_result"
    }
   ],
   "source": [
    "num_classes=len(data.label.unique())\n",
    "num_classes"
   ]
  },
  {
   "cell_type": "code",
   "execution_count": 111,
   "id": "f44f44b2",
   "metadata": {},
   "outputs": [
    {
     "name": "stderr",
     "output_type": "stream",
     "text": [
      "All model checkpoint layers were used when initializing TFBertForSequenceClassification.\n",
      "\n",
      "Some layers of TFBertForSequenceClassification were not initialized from the model checkpoint at bert-base-uncased and are newly initialized: ['classifier']\n",
      "You should probably TRAIN this model on a down-stream task to be able to use it for predictions and inference.\n"
     ]
    }
   ],
   "source": [
    "\n",
    "bert_tokenizer = BertTokenizer.from_pretrained(\"bert-base-uncased\")\n",
    "bert_model = TFBertForSequenceClassification.from_pretrained('bert-base-uncased',num_labels=num_classes)"
   ]
  },
  {
   "cell_type": "code",
   "execution_count": 112,
   "id": "02244dec",
   "metadata": {},
   "outputs": [
    {
     "name": "stdout",
     "output_type": "stream",
     "text": [
      "['how', 'to', 'train', 'the', 'model', ',', 'lets', 'look', 'at', 'how', 'a', 'trained', 'model', 'calculate', '##s', 'its', 'prediction', '.']\n"
     ]
    }
   ],
   "source": [
    "\n",
    "sent= 'how to train the model, lets look at how a trained model calculates its prediction.'\n",
    "tokens=bert_tokenizer.tokenize(sent)\n",
    "print(tokens)"
   ]
  },
  {
   "cell_type": "code",
   "execution_count": 113,
   "id": "af28a164",
   "metadata": {},
   "outputs": [
    {
     "name": "stderr",
     "output_type": "stream",
     "text": [
      "Truncation was not explicitly activated but `max_length` is provided a specific value, please use `truncation=True` to explicitly truncate examples to max length. Defaulting to 'longest_first' truncation strategy. If you encode pairs of sequences (GLUE-style) with the tokenizer you can select this strategy more precisely by providing a specific strategy to `truncation`.\n",
      "/Users/kimkwangil/opt/anaconda3/envs/py38pytorch/lib/python3.8/site-packages/transformers/tokenization_utils_base.py:2104: FutureWarning: The `pad_to_max_length` argument is deprecated and will be removed in a future version, use `padding=True` or `padding='longest'` to pad to the longest sequence in the batch, or use `padding='max_length'` to pad to a max length. In this case, you can give a specific length with `max_length` (e.g. `max_length=45`) or leave max_length to None to pad to the maximal input size of the model (e.g. 512 for Bert).\n",
      "  warnings.warn(\n"
     ]
    }
   ],
   "source": [
    "tokenized_sequence= bert_tokenizer.encode_plus(sent,add_special_tokens = True,max_length =30,pad_to_max_length = True,\n",
    "return_attention_mask = True)"
   ]
  },
  {
   "cell_type": "code",
   "execution_count": 114,
   "id": "aea5fc67",
   "metadata": {},
   "outputs": [
    {
     "data": {
      "text/plain": [
       "{'input_ids': [101, 2129, 2000, 3345, 1996, 2944, 1010, 11082, 2298, 2012, 2129, 1037, 4738, 2944, 18422, 2015, 2049, 17547, 1012, 102, 0, 0, 0, 0, 0, 0, 0, 0, 0, 0], 'token_type_ids': [0, 0, 0, 0, 0, 0, 0, 0, 0, 0, 0, 0, 0, 0, 0, 0, 0, 0, 0, 0, 0, 0, 0, 0, 0, 0, 0, 0, 0, 0], 'attention_mask': [1, 1, 1, 1, 1, 1, 1, 1, 1, 1, 1, 1, 1, 1, 1, 1, 1, 1, 1, 1, 0, 0, 0, 0, 0, 0, 0, 0, 0, 0]}"
      ]
     },
     "execution_count": 114,
     "metadata": {},
     "output_type": "execute_result"
    }
   ],
   "source": [
    "\n",
    "tokenized_sequence"
   ]
  },
  {
   "cell_type": "code",
   "execution_count": 115,
   "id": "e5f6b6bf",
   "metadata": {},
   "outputs": [
    {
     "data": {
      "text/plain": [
       "'[CLS] how to train the model, lets look at how a trained model calculates its prediction. [SEP] [PAD] [PAD] [PAD] [PAD] [PAD] [PAD] [PAD] [PAD] [PAD] [PAD]'"
      ]
     },
     "execution_count": 115,
     "metadata": {},
     "output_type": "execute_result"
    }
   ],
   "source": [
    "bert_tokenizer.decode(tokenized_sequence['input_ids'])"
   ]
  },
  {
   "cell_type": "code",
   "execution_count": 116,
   "id": "94d5f7cd",
   "metadata": {},
   "outputs": [
    {
     "data": {
      "text/html": [
       "<div>\n",
       "<style scoped>\n",
       "    .dataframe tbody tr th:only-of-type {\n",
       "        vertical-align: middle;\n",
       "    }\n",
       "\n",
       "    .dataframe tbody tr th {\n",
       "        vertical-align: top;\n",
       "    }\n",
       "\n",
       "    .dataframe thead th {\n",
       "        text-align: right;\n",
       "    }\n",
       "</style>\n",
       "<table border=\"1\" class=\"dataframe\">\n",
       "  <thead>\n",
       "    <tr style=\"text-align: right;\">\n",
       "      <th></th>\n",
       "      <th>text</th>\n",
       "      <th>label</th>\n",
       "      <th>gt</th>\n",
       "    </tr>\n",
       "  </thead>\n",
       "  <tbody>\n",
       "    <tr>\n",
       "      <th>234</th>\n",
       "      <td>election materials distributed speak</td>\n",
       "      <td>lean_left</td>\n",
       "      <td>1</td>\n",
       "    </tr>\n",
       "    <tr>\n",
       "      <th>208</th>\n",
       "      <td>annual deficits rise since big spike amid pand...</td>\n",
       "      <td>right</td>\n",
       "      <td>4</td>\n",
       "    </tr>\n",
       "    <tr>\n",
       "      <th>570</th>\n",
       "      <td>young queer immigrant woman united states real...</td>\n",
       "      <td>lean_left</td>\n",
       "      <td>1</td>\n",
       "    </tr>\n",
       "    <tr>\n",
       "      <th>1506</th>\n",
       "      <td>like really</td>\n",
       "      <td>lean_left</td>\n",
       "      <td>1</td>\n",
       "    </tr>\n",
       "    <tr>\n",
       "      <th>347</th>\n",
       "      <td>justice department charged least hundred peopl...</td>\n",
       "      <td>left</td>\n",
       "      <td>0</td>\n",
       "    </tr>\n",
       "  </tbody>\n",
       "</table>\n",
       "</div>"
      ],
      "text/plain": [
       "                                                   text      label  gt\n",
       "234                election materials distributed speak  lean_left   1\n",
       "208   annual deficits rise since big spike amid pand...      right   4\n",
       "570   young queer immigrant woman united states real...  lean_left   1\n",
       "1506                                        like really  lean_left   1\n",
       "347   justice department charged least hundred peopl...       left   0"
      ]
     },
     "execution_count": 116,
     "metadata": {},
     "output_type": "execute_result"
    }
   ],
   "source": [
    "data['gt'] = data['label'].map({'left':0,'lean_left':1, 'center':2,'lean_right':3, 'right':4})\n",
    "data.head()"
   ]
  },
  {
   "cell_type": "code",
   "execution_count": 117,
   "id": "1a4cfec7",
   "metadata": {},
   "outputs": [
    {
     "data": {
      "text/plain": [
       "(1548, 1548)"
      ]
     },
     "execution_count": 117,
     "metadata": {},
     "output_type": "execute_result"
    }
   ],
   "source": [
    "\n",
    "sentences=data['text']\n",
    "labels=data['gt']\n",
    "len(sentences),len(labels)"
   ]
  },
  {
   "cell_type": "markdown",
   "id": "95756573",
   "metadata": {},
   "source": [
    "# 문장을 숫자변환 예\n",
    "\n",
    "- Original Sentence: Let's learn deep learning!\n",
    "\n",
    "- Tokenized Sentence: ['Let', \"'\", 's', 'learn', 'deep', 'learning', '!']\n",
    "\n",
    "- Adding [CLS] and [SEP] Tokens: ['[CLS]', 'Let', \"'\", 's', 'learn', 'deep', 'learning', '!', '[SEP]']\n",
    "\n",
    "- Padding: ['[CLS]', 'Let', \"'\", 's', 'learn', 'deep', 'learning', '!', '[SEP]', '[PAD]']\n",
    "\n",
    "- Converting to IDs: [101, 2421, 112, 188, 3858, 1996, 3776, 106, 102, 0]"
   ]
  },
  {
   "cell_type": "code",
   "execution_count": 118,
   "id": "c42e91a0",
   "metadata": {},
   "outputs": [
    {
     "name": "stderr",
     "output_type": "stream",
     "text": [
      "/Users/kimkwangil/opt/anaconda3/envs/py38pytorch/lib/python3.8/site-packages/transformers/tokenization_utils_base.py:2104: FutureWarning: The `pad_to_max_length` argument is deprecated and will be removed in a future version, use `padding=True` or `padding='longest'` to pad to the longest sequence in the batch, or use `padding='max_length'` to pad to a max length. In this case, you can give a specific length with `max_length` (e.g. `max_length=45`) or leave max_length to None to pad to the maximal input size of the model (e.g. 512 for Bert).\n",
      "  warnings.warn(\n"
     ]
    }
   ],
   "source": [
    "input_ids=[] # 입력데디터 리스트 선언\n",
    "attention_masks=[] # 앞뒤 정보를 비교하여 마스크 예측하기 위한 리스트 선언\n",
    "\n",
    "for sent in sentences: # 문장하나씩 가져와서 인풋, 마스스크를 추가\n",
    "    # 문장을 숫자로 바꾼다. 짧은 문장은 패딩처리하고, 토큰화 한다.\n",
    "    bert_inp=bert_tokenizer.encode_plus(sent,add_special_tokens = True,max_length =64,pad_to_max_length = True,return_attention_mask = True)\n",
    "    input_ids.append(bert_inp['input_ids'])\n",
    "    attention_masks.append(bert_inp['attention_mask'])\n",
    "\n",
    "input_ids=np.asarray(input_ids)\n",
    "attention_masks=np.array(attention_masks)\n",
    "labels=np.array(labels)"
   ]
  },
  {
   "cell_type": "code",
   "execution_count": 119,
   "id": "e070c626",
   "metadata": {},
   "outputs": [
    {
     "data": {
      "text/plain": [
       "array([[  101,  2602,  4475, ...,     0,     0,     0],\n",
       "       [  101,  3296, 15074, ...,  4551,  4675,   102],\n",
       "       [  101,  2402, 19483, ...,     0,     0,     0],\n",
       "       ...,\n",
       "       [  101,  2360,  7714, ...,     0,     0,     0],\n",
       "       [  101, 11434,  7325, ...,     0,     0,     0],\n",
       "       [  101,  7226,  2368, ...,     0,     0,     0]])"
      ]
     },
     "execution_count": 119,
     "metadata": {},
     "output_type": "execute_result"
    }
   ],
   "source": [
    "input_ids"
   ]
  },
  {
   "cell_type": "code",
   "execution_count": 120,
   "id": "bb2d589b",
   "metadata": {},
   "outputs": [
    {
     "data": {
      "text/plain": [
       "array([[1, 1, 1, ..., 0, 0, 0],\n",
       "       [1, 1, 1, ..., 1, 1, 1],\n",
       "       [1, 1, 1, ..., 0, 0, 0],\n",
       "       ...,\n",
       "       [1, 1, 1, ..., 0, 0, 0],\n",
       "       [1, 1, 1, ..., 0, 0, 0],\n",
       "       [1, 1, 1, ..., 0, 0, 0]])"
      ]
     },
     "execution_count": 120,
     "metadata": {},
     "output_type": "execute_result"
    }
   ],
   "source": [
    "attention_masks"
   ]
  },
  {
   "cell_type": "code",
   "execution_count": 121,
   "id": "5572be8e",
   "metadata": {},
   "outputs": [
    {
     "data": {
      "text/plain": [
       "array([1, 4, 1, ..., 1, 1, 4])"
      ]
     },
     "execution_count": 121,
     "metadata": {},
     "output_type": "execute_result"
    }
   ],
   "source": [
    "labels"
   ]
  },
  {
   "cell_type": "code",
   "execution_count": 122,
   "id": "8f165ad0",
   "metadata": {},
   "outputs": [
    {
     "data": {
      "text/plain": [
       "(1548, 1548, 1548)"
      ]
     },
     "execution_count": 122,
     "metadata": {},
     "output_type": "execute_result"
    }
   ],
   "source": [
    "len(input_ids),len(attention_masks),len(labels)"
   ]
  },
  {
   "cell_type": "code",
   "execution_count": 123,
   "id": "352072dc",
   "metadata": {},
   "outputs": [
    {
     "name": "stdout",
     "output_type": "stream",
     "text": [
      "Preparing the pickle file.....\n",
      "Pickle files saved as  ./data_pc/bert_inp.pkl ./data_pc/bert_mask.pkl ./data_pc/bert_label.pkl\n"
     ]
    }
   ],
   "source": [
    "\n",
    "print('Preparing the pickle file.....')\n",
    "\n",
    "pickle_inp_path='./data_pc/bert_inp.pkl'\n",
    "pickle_mask_path='./data_pc/bert_mask.pkl'\n",
    "pickle_label_path='./data_pc/bert_label.pkl'\n",
    "\n",
    "pickle.dump((input_ids),open(pickle_inp_path,'wb'))\n",
    "pickle.dump((attention_masks),open(pickle_mask_path,'wb'))\n",
    "pickle.dump((labels),open(pickle_label_path,'wb'))\n",
    "\n",
    "\n",
    "print('Pickle files saved as ',pickle_inp_path,pickle_mask_path,pickle_label_path)"
   ]
  },
  {
   "cell_type": "code",
   "execution_count": 124,
   "id": "1bf73d31",
   "metadata": {},
   "outputs": [
    {
     "name": "stdout",
     "output_type": "stream",
     "text": [
      "Loading the saved pickle files..\n",
      "Input shape (1548, 64) Attention mask shape (1548, 64) Input label shape (1548,)\n"
     ]
    }
   ],
   "source": [
    "print('Loading the saved pickle files..')\n",
    "\n",
    "input_ids=pickle.load(open(pickle_inp_path, 'rb'))\n",
    "attention_masks=pickle.load(open(pickle_mask_path, 'rb'))\n",
    "labels=pickle.load(open(pickle_label_path, 'rb'))\n",
    "\n",
    "print('Input shape {} Attention mask shape {} Input label shape {}'.format(input_ids.shape,attention_masks.shape,labels.shape))"
   ]
  },
  {
   "cell_type": "code",
   "execution_count": 125,
   "id": "64c5b078",
   "metadata": {},
   "outputs": [
    {
     "data": {
      "text/plain": [
       "array([[  101,  2602,  4475, ...,     0,     0,     0],\n",
       "       [  101,  3296, 15074, ...,  4551,  4675,   102],\n",
       "       [  101,  2402, 19483, ...,     0,     0,     0],\n",
       "       ...,\n",
       "       [  101,  2360,  7714, ...,     0,     0,     0],\n",
       "       [  101, 11434,  7325, ...,     0,     0,     0],\n",
       "       [  101,  7226,  2368, ...,     0,     0,     0]])"
      ]
     },
     "execution_count": 125,
     "metadata": {},
     "output_type": "execute_result"
    }
   ],
   "source": [
    "input_ids # 입력문장"
   ]
  },
  {
   "cell_type": "code",
   "execution_count": 126,
   "id": "0c19f8be",
   "metadata": {},
   "outputs": [
    {
     "data": {
      "text/plain": [
       "array([[1, 1, 1, ..., 0, 0, 0],\n",
       "       [1, 1, 1, ..., 1, 1, 1],\n",
       "       [1, 1, 1, ..., 0, 0, 0],\n",
       "       ...,\n",
       "       [1, 1, 1, ..., 0, 0, 0],\n",
       "       [1, 1, 1, ..., 0, 0, 0],\n",
       "       [1, 1, 1, ..., 0, 0, 0]])"
      ]
     },
     "execution_count": 126,
     "metadata": {},
     "output_type": "execute_result"
    }
   ],
   "source": [
    "attention_masks # 마스크처리된 데이터"
   ]
  },
  {
   "cell_type": "code",
   "execution_count": 127,
   "id": "8591774d",
   "metadata": {},
   "outputs": [
    {
     "data": {
      "text/plain": [
       "array([1, 4, 1, ..., 1, 1, 4])"
      ]
     },
     "execution_count": 127,
     "metadata": {},
     "output_type": "execute_result"
    }
   ],
   "source": [
    "labels # 문장당 레이블(5 가지 척도)"
   ]
  },
  {
   "cell_type": "code",
   "execution_count": 128,
   "id": "b1bcdd70",
   "metadata": {},
   "outputs": [
    {
     "name": "stdout",
     "output_type": "stream",
     "text": [
      "Train inp shape (1238, 64) Val input shape (310, 64)\n",
      "Train label shape (1238,) Val label shape (310,)\n",
      "Train attention mask shape (1238, 64) Val attention mask shape (310, 64)\n"
     ]
    }
   ],
   "source": [
    "train_inp,val_inp,train_label,val_label,train_mask,val_mask=train_test_split(input_ids,labels,attention_masks,test_size=0.2)\n",
    "\n",
    "print('Train inp shape {} Val input shape {}\\nTrain label shape {} Val label shape {}\\nTrain attention mask shape {} Val attention mask shape {}'.format(train_inp.shape,val_inp.shape,train_label.shape,val_label.shape,train_mask.shape,val_mask.shape))"
   ]
  },
  {
   "cell_type": "code",
   "execution_count": 129,
   "id": "064503d1",
   "metadata": {},
   "outputs": [],
   "source": [
    "# 예측에 사용하는 데이터\n",
    "\n",
    "# input_ids : val_inp    --> 입력문장\n",
    "# val_mask --> 마스크처리된 단어"
   ]
  },
  {
   "cell_type": "code",
   "execution_count": 130,
   "id": "03b9fedf",
   "metadata": {},
   "outputs": [
    {
     "data": {
      "text/plain": [
       "array([[  101, 19089,  7299, ...,     0,     0,     0],\n",
       "       [  101, 17069,  7108, ...,     0,     0,     0],\n",
       "       [  101,  2204,  3160, ...,     0,     0,     0],\n",
       "       ...,\n",
       "       [  101,  2567,  2165, ...,     0,     0,     0],\n",
       "       [  101,  2343,  2036, ...,     0,     0,     0],\n",
       "       [  101,  2402, 19483, ...,     0,     0,     0]])"
      ]
     },
     "execution_count": 130,
     "metadata": {},
     "output_type": "execute_result"
    }
   ],
   "source": [
    "val_inp"
   ]
  },
  {
   "cell_type": "code",
   "execution_count": 131,
   "id": "3bedef57",
   "metadata": {},
   "outputs": [
    {
     "data": {
      "text/plain": [
       "(310, 64)"
      ]
     },
     "execution_count": 131,
     "metadata": {},
     "output_type": "execute_result"
    }
   ],
   "source": [
    "val_inp.shape"
   ]
  },
  {
   "cell_type": "code",
   "execution_count": 132,
   "id": "c9608d9a",
   "metadata": {},
   "outputs": [
    {
     "data": {
      "text/plain": [
       "array([1, 3, 1, 0, 3, 0, 4, 1, 1, 0, 1, 4, 1, 1, 0, 1, 4, 1, 1, 1, 3, 0,\n",
       "       1, 0, 1, 1, 0, 1, 1, 1, 4, 4, 1, 1, 0, 0, 1, 0, 4, 1, 1, 4, 1, 4,\n",
       "       1, 0, 0, 1, 1, 1, 3, 4, 1, 1, 0, 1, 1, 1, 1, 0, 0, 4, 0, 2, 1, 0,\n",
       "       3, 3, 0, 0, 3, 1, 1, 0, 4, 3, 1, 0, 4, 0, 0, 0, 1, 1, 1, 0, 1, 2,\n",
       "       4, 0, 4, 1, 4, 1, 0, 1, 1, 1, 4, 0, 0, 1, 4, 1, 1, 1, 0, 0, 1, 4,\n",
       "       0, 1, 1, 0, 0, 0, 1, 0, 4, 2, 4, 1, 1, 1, 0, 1, 0, 4, 0, 1, 1, 1,\n",
       "       4, 0, 1, 1, 4, 1, 1, 4, 1, 0, 1, 1, 1, 1, 1, 0, 1, 0, 1, 0, 1, 1,\n",
       "       0, 0, 2, 1, 1, 0, 1, 4, 0, 0, 0, 4, 0, 1, 0, 4, 4, 0, 1, 4, 1, 4,\n",
       "       0, 1, 0, 1, 0, 4, 0, 1, 0, 3, 1, 4, 1, 0, 4, 1, 1, 1, 1, 1, 1, 1,\n",
       "       0, 1, 0, 1, 0, 0, 0, 2, 2, 1, 1, 1, 4, 1, 0, 0, 1, 1, 1, 1, 4, 1,\n",
       "       1, 1, 1, 1, 0, 1, 1, 4, 0, 1, 0, 1, 4, 1, 0, 0, 1, 1, 1, 0, 1, 0,\n",
       "       3, 4, 0, 4, 1, 4, 0, 0, 1, 2, 4, 0, 1, 1, 1, 1, 1, 1, 0, 2, 4, 1,\n",
       "       1, 1, 1, 0, 4, 1, 1, 2, 1, 0, 4, 0, 0, 1, 1, 1, 0, 0, 4, 3, 0, 1,\n",
       "       1, 0, 0, 1, 1, 1, 1, 4, 0, 0, 1, 1, 1, 4, 0, 4, 1, 1, 1, 1, 1, 4,\n",
       "       0, 1])"
      ]
     },
     "execution_count": 132,
     "metadata": {},
     "output_type": "execute_result"
    }
   ],
   "source": [
    "val_label"
   ]
  },
  {
   "cell_type": "code",
   "execution_count": 133,
   "id": "2e4c9b51",
   "metadata": {},
   "outputs": [
    {
     "data": {
      "text/plain": [
       "(310,)"
      ]
     },
     "execution_count": 133,
     "metadata": {},
     "output_type": "execute_result"
    }
   ],
   "source": [
    "val_label.shape"
   ]
  },
  {
   "cell_type": "code",
   "execution_count": 134,
   "id": "495e88cf",
   "metadata": {},
   "outputs": [
    {
     "data": {
      "text/plain": [
       "array([[1, 1, 1, ..., 0, 0, 0],\n",
       "       [1, 1, 1, ..., 0, 0, 0],\n",
       "       [1, 1, 1, ..., 0, 0, 0],\n",
       "       ...,\n",
       "       [1, 1, 1, ..., 0, 0, 0],\n",
       "       [1, 1, 1, ..., 0, 0, 0],\n",
       "       [1, 1, 1, ..., 0, 0, 0]])"
      ]
     },
     "execution_count": 134,
     "metadata": {},
     "output_type": "execute_result"
    }
   ],
   "source": [
    "val_mask"
   ]
  },
  {
   "cell_type": "code",
   "execution_count": 135,
   "id": "2acc97cc",
   "metadata": {},
   "outputs": [
    {
     "data": {
      "text/plain": [
       "(310, 64)"
      ]
     },
     "execution_count": 135,
     "metadata": {},
     "output_type": "execute_result"
    }
   ],
   "source": [
    "val_mask.shape"
   ]
  },
  {
   "cell_type": "code",
   "execution_count": 136,
   "id": "f80a18fc",
   "metadata": {},
   "outputs": [
    {
     "name": "stdout",
     "output_type": "stream",
     "text": [
      "Model: \"tf_bert_for_sequence_classification_2\"\n",
      "_________________________________________________________________\n",
      "Layer (type)                 Output Shape              Param #   \n",
      "=================================================================\n",
      "bert (TFBertMainLayer)       multiple                  109482240 \n",
      "_________________________________________________________________\n",
      "dropout_113 (Dropout)        multiple                  0         \n",
      "_________________________________________________________________\n",
      "classifier (Dense)           multiple                  3845      \n",
      "=================================================================\n",
      "Total params: 109,486,085\n",
      "Trainable params: 109,486,085\n",
      "Non-trainable params: 0\n",
      "_________________________________________________________________\n",
      "\n",
      "Bert Model None\n"
     ]
    }
   ],
   "source": [
    "log_dir='tensorboard_data/tb_bert'\n",
    "model_save_path='./models/bert_model.h5'\n",
    "\n",
    "callbacks = [tf.keras.callbacks.ModelCheckpoint(filepath=model_save_path,save_weights_only=True,monitor='val_loss',mode='min',save_best_only=True),keras.callbacks.TensorBoard(log_dir=log_dir)]\n",
    "\n",
    "print('\\nBert Model',bert_model.summary())\n",
    "\n",
    "loss = tf.keras.losses.SparseCategoricalCrossentropy(from_logits=True)\n",
    "metric = tf.keras.metrics.SparseCategoricalAccuracy('accuracy')\n",
    "optimizer = tf.keras.optimizers.Adam(learning_rate=2e-5,epsilon=1e-08)\n",
    "\n",
    "bert_model.compile(loss=loss,optimizer=optimizer,metrics=[metric])\n"
   ]
  },
  {
   "cell_type": "code",
   "execution_count": 163,
   "id": "9b89c337",
   "metadata": {},
   "outputs": [
    {
     "name": "stdout",
     "output_type": "stream",
     "text": [
      "Epoch 1/40\n",
      "39/39 [==============================] - 168s 4s/step - loss: 0.0076 - accuracy: 0.9984 - val_loss: 1.1775 - val_accuracy: 0.8129\n",
      "Epoch 2/40\n",
      "39/39 [==============================] - 166s 4s/step - loss: 0.0144 - accuracy: 0.9968 - val_loss: 1.3094 - val_accuracy: 0.7935\n",
      "Epoch 3/40\n",
      "39/39 [==============================] - 167s 4s/step - loss: 0.0141 - accuracy: 0.9968 - val_loss: 1.2033 - val_accuracy: 0.8065\n",
      "Epoch 4/40\n",
      "39/39 [==============================] - 167s 4s/step - loss: 0.0164 - accuracy: 0.9968 - val_loss: 1.2763 - val_accuracy: 0.7806\n",
      "Epoch 5/40\n",
      "39/39 [==============================] - 164s 4s/step - loss: 0.0132 - accuracy: 0.9968 - val_loss: 1.1506 - val_accuracy: 0.7806\n",
      "Epoch 6/40\n",
      "39/39 [==============================] - 162s 4s/step - loss: 0.0041 - accuracy: 0.9992 - val_loss: 1.2209 - val_accuracy: 0.7935\n",
      "Epoch 7/40\n",
      "39/39 [==============================] - 159s 4s/step - loss: 0.0043 - accuracy: 0.9992 - val_loss: 1.2551 - val_accuracy: 0.7968\n",
      "Epoch 8/40\n",
      "39/39 [==============================] - 163s 4s/step - loss: 0.0042 - accuracy: 0.9992 - val_loss: 1.2637 - val_accuracy: 0.7968\n",
      "Epoch 9/40\n",
      "39/39 [==============================] - 159s 4s/step - loss: 0.0121 - accuracy: 0.9968 - val_loss: 1.1887 - val_accuracy: 0.7968\n",
      "Epoch 10/40\n",
      "39/39 [==============================] - 158s 4s/step - loss: 0.0050 - accuracy: 0.9992 - val_loss: 1.2445 - val_accuracy: 0.7935\n",
      "Epoch 11/40\n",
      "39/39 [==============================] - 160s 4s/step - loss: 0.0051 - accuracy: 0.9992 - val_loss: 1.2466 - val_accuracy: 0.8097\n",
      "Epoch 12/40\n",
      "39/39 [==============================] - 158s 4s/step - loss: 0.0036 - accuracy: 0.9992 - val_loss: 1.2365 - val_accuracy: 0.8032\n",
      "Epoch 13/40\n",
      "39/39 [==============================] - 159s 4s/step - loss: 0.0034 - accuracy: 0.9992 - val_loss: 1.2445 - val_accuracy: 0.8065\n",
      "Epoch 14/40\n",
      "39/39 [==============================] - 158s 4s/step - loss: 0.0060 - accuracy: 0.9984 - val_loss: 1.2833 - val_accuracy: 0.8065\n",
      "Epoch 15/40\n",
      "39/39 [==============================] - 160s 4s/step - loss: 0.0282 - accuracy: 0.9960 - val_loss: 1.1640 - val_accuracy: 0.8129\n",
      "Epoch 16/40\n",
      "39/39 [==============================] - 159s 4s/step - loss: 0.0069 - accuracy: 0.9984 - val_loss: 1.2145 - val_accuracy: 0.8032\n",
      "Epoch 17/40\n",
      "39/39 [==============================] - 158s 4s/step - loss: 0.0038 - accuracy: 0.9992 - val_loss: 1.2207 - val_accuracy: 0.8032\n",
      "Epoch 18/40\n",
      "39/39 [==============================] - 158s 4s/step - loss: 0.0034 - accuracy: 0.9992 - val_loss: 1.2300 - val_accuracy: 0.8000\n",
      "Epoch 19/40\n",
      "39/39 [==============================] - 158s 4s/step - loss: 0.0039 - accuracy: 0.9992 - val_loss: 1.2304 - val_accuracy: 0.8032\n",
      "Epoch 20/40\n",
      "39/39 [==============================] - 158s 4s/step - loss: 0.0034 - accuracy: 0.9992 - val_loss: 1.2428 - val_accuracy: 0.8032\n",
      "Epoch 21/40\n",
      "39/39 [==============================] - 158s 4s/step - loss: 0.0032 - accuracy: 0.9992 - val_loss: 1.2522 - val_accuracy: 0.8000\n",
      "Epoch 22/40\n",
      "39/39 [==============================] - 158s 4s/step - loss: 0.0030 - accuracy: 0.9992 - val_loss: 1.2617 - val_accuracy: 0.8000\n",
      "Epoch 23/40\n",
      "39/39 [==============================] - 158s 4s/step - loss: 0.0031 - accuracy: 0.9992 - val_loss: 1.2694 - val_accuracy: 0.8000\n",
      "Epoch 24/40\n",
      "39/39 [==============================] - 158s 4s/step - loss: 0.0033 - accuracy: 0.9992 - val_loss: 1.2790 - val_accuracy: 0.7968\n",
      "Epoch 25/40\n",
      "39/39 [==============================] - 158s 4s/step - loss: 0.0032 - accuracy: 0.9992 - val_loss: 1.2881 - val_accuracy: 0.7968\n",
      "Epoch 26/40\n",
      "39/39 [==============================] - 158s 4s/step - loss: 0.0035 - accuracy: 0.9992 - val_loss: 1.2966 - val_accuracy: 0.7935\n",
      "Epoch 27/40\n",
      "39/39 [==============================] - 158s 4s/step - loss: 0.0033 - accuracy: 0.9992 - val_loss: 1.3071 - val_accuracy: 0.7935\n",
      "Epoch 28/40\n",
      "39/39 [==============================] - 158s 4s/step - loss: 0.0031 - accuracy: 0.9992 - val_loss: 1.3124 - val_accuracy: 0.7968\n",
      "Epoch 29/40\n",
      "39/39 [==============================] - 158s 4s/step - loss: 0.0026 - accuracy: 0.9992 - val_loss: 1.3220 - val_accuracy: 0.7903\n",
      "Epoch 30/40\n",
      "39/39 [==============================] - 158s 4s/step - loss: 0.0033 - accuracy: 0.9992 - val_loss: 1.3330 - val_accuracy: 0.7903\n",
      "Epoch 31/40\n",
      "39/39 [==============================] - 158s 4s/step - loss: 0.0035 - accuracy: 0.9992 - val_loss: 1.3448 - val_accuracy: 0.7935\n",
      "Epoch 32/40\n",
      "39/39 [==============================] - 158s 4s/step - loss: 0.0030 - accuracy: 0.9992 - val_loss: 1.3500 - val_accuracy: 0.7968\n",
      "Epoch 33/40\n",
      "39/39 [==============================] - 158s 4s/step - loss: 0.0055 - accuracy: 0.9992 - val_loss: 1.3315 - val_accuracy: 0.8000\n",
      "Epoch 34/40\n",
      "39/39 [==============================] - 158s 4s/step - loss: 0.0030 - accuracy: 0.9992 - val_loss: 1.3531 - val_accuracy: 0.7968\n",
      "Epoch 35/40\n",
      "39/39 [==============================] - 158s 4s/step - loss: 0.0033 - accuracy: 0.9992 - val_loss: 1.3651 - val_accuracy: 0.7935\n",
      "Epoch 36/40\n",
      "39/39 [==============================] - 158s 4s/step - loss: 0.0030 - accuracy: 0.9992 - val_loss: 1.3758 - val_accuracy: 0.7935\n",
      "Epoch 37/40\n",
      "39/39 [==============================] - 158s 4s/step - loss: 0.0031 - accuracy: 0.9992 - val_loss: 1.3776 - val_accuracy: 0.7935\n",
      "Epoch 38/40\n",
      "39/39 [==============================] - 158s 4s/step - loss: 0.0034 - accuracy: 0.9992 - val_loss: 1.3846 - val_accuracy: 0.7935\n",
      "Epoch 39/40\n",
      "39/39 [==============================] - 158s 4s/step - loss: 0.0032 - accuracy: 0.9992 - val_loss: 1.3860 - val_accuracy: 0.7935\n",
      "Epoch 40/40\n",
      "39/39 [==============================] - 158s 4s/step - loss: 0.0030 - accuracy: 0.9992 - val_loss: 1.3952 - val_accuracy: 0.7935\n"
     ]
    }
   ],
   "source": [
    "\n",
    "history=bert_model.fit([train_inp,train_mask],train_label,batch_size=32,epochs=40,validation_data=([val_inp,val_mask],val_label),callbacks=callbacks)"
   ]
  },
  {
   "cell_type": "code",
   "execution_count": 140,
   "id": "6df5783c",
   "metadata": {},
   "outputs": [
    {
     "name": "stderr",
     "output_type": "stream",
     "text": [
      "All model checkpoint layers were used when initializing TFBertForSequenceClassification.\n",
      "\n",
      "Some layers of TFBertForSequenceClassification were not initialized from the model checkpoint at bert-base-uncased and are newly initialized: ['classifier']\n",
      "You should probably TRAIN this model on a down-stream task to be able to use it for predictions and inference.\n"
     ]
    },
    {
     "name": "stdout",
     "output_type": "stream",
     "text": [
      "WARNING:tensorflow:The parameters `output_attentions`, `output_hidden_states` and `use_cache` cannot be updated when calling a model.They have to be set to True/False in the config object (i.e.: `config=XConfig.from_pretrained('name', output_attentions=True)`).\n",
      "WARNING:tensorflow:The parameter `return_dict` cannot be set in graph mode and will always be set to `True`.\n",
      "preds: TFSequenceClassifierOutput(loss=None, logits=array([[-0.10019217,  3.277342  , -1.8268948 , -1.0012113 , -1.2440035 ],\n",
      "       [ 0.5970513 , -1.4175588 , -0.5475062 ,  0.5165085 ,  1.2253442 ],\n",
      "       [-0.79382205,  3.9933996 , -1.5498416 , -1.1479626 , -1.1485069 ],\n",
      "       ...,\n",
      "       [-0.4367331 , -1.3278909 , -0.24322936, -0.65558124,  3.3821518 ],\n",
      "       [-0.82193136,  4.0403714 , -1.627385  , -1.1108896 , -1.213926  ],\n",
      "       [-0.99730295,  3.9718273 , -1.480455  , -0.78265995, -1.3801324 ]],\n",
      "      dtype=float32), hidden_states=None, attentions=None)\n",
      "<class 'transformers.modeling_tf_outputs.TFSequenceClassifierOutput'>\n",
      "preds_: [[-0.10019217  3.277342   -1.8268948  -1.0012113  -1.2440035 ]\n",
      " [ 0.5970513  -1.4175588  -0.5475062   0.5165085   1.2253442 ]\n",
      " [-0.79382205  3.9933996  -1.5498416  -1.1479626  -1.1485069 ]\n",
      " ...\n",
      " [-0.4367331  -1.3278909  -0.24322936 -0.65558124  3.3821518 ]\n",
      " [-0.82193136  4.0403714  -1.627385   -1.1108896  -1.213926  ]\n",
      " [-0.99730295  3.9718273  -1.480455   -0.78265995 -1.3801324 ]]\n",
      "pred_labels [1 4 1 1 3 0 0 1 1 0 1 4 1 1 1 1 4 1 4 1 0 0 1 0 1 1 4 1 1 1 4 4 1 1 2 4 2\n",
      " 0 4 1 1 4 1 1 1 0 1 1 1 1 3 4 1 1 0 1 1 0 1 0 0 4 0 2 1 1 3 0 1 4 1 1 1 0\n",
      " 4 1 1 0 4 0 0 0 1 1 1 0 1 2 4 1 4 1 4 1 0 1 1 1 4 0 0 1 4 1 0 1 0 0 1 4 0\n",
      " 1 1 0 0 1 1 0 0 2 4 1 1 1 0 0 4 4 1 1 1 1 4 0 1 0 4 1 1 4 1 0 1 1 0 1 1 1\n",
      " 1 0 1 0 0 4 1 0 1 1 0 1 1 4 0 1 0 4 0 1 0 4 0 0 1 4 1 4 0 1 4 1 1 4 0 1 1\n",
      " 1 1 4 1 0 4 1 1 1 1 1 1 1 1 1 0 1 0 0 0 4 1 1 0 1 4 1 0 0 1 1 1 1 4 1 1 1\n",
      " 1 1 0 1 1 4 0 1 0 1 4 0 4 1 1 1 1 4 1 0 1 4 1 4 1 4 0 0 1 2 4 1 1 1 1 1 0\n",
      " 1 0 1 4 1 1 1 4 0 4 1 1 2 1 4 4 0 1 1 1 0 1 0 4 1 0 1 1 1 0 1 1 1 1 0 2 1\n",
      " 1 1 1 1 0 1 1 1 1 1 1 4 1 1]\n",
      "val_label [1 3 1 0 3 0 4 1 1 0 1 4 1 1 0 1 4 1 1 1 3 0 1 0 1 1 0 1 1 1 4 4 1 1 0 0 1\n",
      " 0 4 1 1 4 1 4 1 0 0 1 1 1 3 4 1 1 0 1 1 1 1 0 0 4 0 2 1 0 3 3 0 0 3 1 1 0\n",
      " 4 3 1 0 4 0 0 0 1 1 1 0 1 2 4 0 4 1 4 1 0 1 1 1 4 0 0 1 4 1 1 1 0 0 1 4 0\n",
      " 1 1 0 0 0 1 0 4 2 4 1 1 1 0 1 0 4 0 1 1 1 4 0 1 1 4 1 1 4 1 0 1 1 1 1 1 0\n",
      " 1 0 1 0 1 1 0 0 2 1 1 0 1 4 0 0 0 4 0 1 0 4 4 0 1 4 1 4 0 1 0 1 0 4 0 1 0\n",
      " 3 1 4 1 0 4 1 1 1 1 1 1 1 0 1 0 1 0 0 0 2 2 1 1 1 4 1 0 0 1 1 1 1 4 1 1 1\n",
      " 1 1 0 1 1 4 0 1 0 1 4 1 0 0 1 1 1 0 1 0 3 4 0 4 1 4 0 0 1 2 4 0 1 1 1 1 1\n",
      " 1 0 2 4 1 1 1 1 0 4 1 1 2 1 0 4 0 0 1 1 1 0 0 4 3 0 1 1 0 0 1 1 1 1 4 0 0\n",
      " 1 1 1 4 0 4 1 1 1 1 1 4 0 1]\n",
      "F1 score 0.7838709677419354\n",
      "Classification Report\n",
      "              precision    recall  f1-score   support\n",
      "\n",
      "        left       0.77      0.64      0.70        91\n",
      "   lean_left       0.80      0.90      0.85       150\n",
      "      center       0.62      0.56      0.59         9\n",
      "  lean_right       1.00      0.27      0.43        11\n",
      "       right       0.76      0.86      0.81        49\n",
      "\n",
      "    accuracy                           0.78       310\n",
      "   macro avg       0.79      0.64      0.67       310\n",
      "weighted avg       0.79      0.78      0.77       310\n",
      "\n",
      "Training and saving built model.....\n"
     ]
    }
   ],
   "source": [
    "\n",
    "model_save_path='./models/bert_model.h5'\n",
    "\n",
    "trained_model = TFBertForSequenceClassification.from_pretrained('bert-base-uncased',num_labels=5)\n",
    "trained_model.compile(loss=loss,optimizer=optimizer, metrics=[metric])\n",
    "trained_model.load_weights(model_save_path)\n",
    "\n",
    "preds = trained_model.predict([val_inp,val_mask],batch_size=32)\n",
    "print('preds:', preds)\n",
    "print(type(preds))\n",
    "preds = preds['logits']\n",
    "print('preds_:', preds)\n",
    "# import numpy as np\n",
    "# pred_labels = np.argmax(preds)\n",
    "pred_labels = preds.argmax(axis=1)\n",
    "print('pred_labels', pred_labels)\n",
    "print('val_label', val_label)\n",
    "\n",
    "f1 = f1_score(val_label,pred_labels, average='micro')\n",
    "print('F1 score',f1)\n",
    "print('Classification Report')\n",
    "target_names = ['left', 'lean_left', 'center', 'lean_right', 'right']\n",
    "print(classification_report(val_label,pred_labels,target_names=target_names))\n",
    "\n",
    "print('Training and saving built model.....')"
   ]
  },
  {
   "cell_type": "code",
   "execution_count": 164,
   "id": "695bfaf5",
   "metadata": {},
   "outputs": [
    {
     "name": "stderr",
     "output_type": "stream",
     "text": [
      "/Users/kimkwangil/opt/anaconda3/envs/py38pytorch/lib/python3.8/site-packages/transformers/tokenization_utils_base.py:2104: FutureWarning: The `pad_to_max_length` argument is deprecated and will be removed in a future version, use `padding=True` or `padding='longest'` to pad to the longest sequence in the batch, or use `padding='max_length'` to pad to a max length. In this case, you can give a specific length with `max_length` (e.g. `max_length=45`) or leave max_length to None to pad to the maximal input size of the model (e.g. 512 for Bert).\n",
      "  warnings.warn(\n"
     ]
    }
   ],
   "source": [
    "\n",
    "# sentnece label : lean_left\n",
    "\n",
    "sent_input = \"\"\"One Metropolitan Police officer who was beaten and tased during the riot, Michael Fanone, has advocated for the release of his body camera video and repeatedly criticized Republicans who've tried to downplay the violence during the insurrection.\"\"\"\n",
    "\n",
    "\n",
    "\n",
    "# 문장을 숫자로 바꾼다. 짧은 문장은 패딩처리하고, 토큰화 한다.\n",
    "bert_inp=bert_tokenizer.encode_plus(sent_input,add_special_tokens = True,max_length =64,pad_to_max_length = True,return_attention_mask = True)\n",
    "input_ids=bert_inp['input_ids']\n",
    "attention_masks= bert_inp['attention_mask']\n",
    "\n",
    "input_ids=np.asarray(input_ids)\n",
    "attention_masks=np.array(attention_masks)\n",
    "labels=np.array(labels)"
   ]
  },
  {
   "cell_type": "code",
   "execution_count": 165,
   "id": "c6dec295",
   "metadata": {},
   "outputs": [
    {
     "data": {
      "text/plain": [
       "{'input_ids': [101, 2028, 4956, 2610, 2961, 2040, 2001, 7854, 1998, 11937, 6924, 2076, 1996, 11421, 1010, 2745, 5470, 5643, 1010, 2038, 11886, 2005, 1996, 2713, 1997, 2010, 2303, 4950, 2678, 1998, 8385, 6367, 10643, 2040, 1005, 2310, 2699, 2000, 2091, 13068, 1996, 4808, 2076, 1996, 27860, 1012, 102, 0, 0, 0, 0, 0, 0, 0, 0, 0, 0, 0, 0, 0, 0, 0, 0, 0], 'token_type_ids': [0, 0, 0, 0, 0, 0, 0, 0, 0, 0, 0, 0, 0, 0, 0, 0, 0, 0, 0, 0, 0, 0, 0, 0, 0, 0, 0, 0, 0, 0, 0, 0, 0, 0, 0, 0, 0, 0, 0, 0, 0, 0, 0, 0, 0, 0, 0, 0, 0, 0, 0, 0, 0, 0, 0, 0, 0, 0, 0, 0, 0, 0, 0, 0], 'attention_mask': [1, 1, 1, 1, 1, 1, 1, 1, 1, 1, 1, 1, 1, 1, 1, 1, 1, 1, 1, 1, 1, 1, 1, 1, 1, 1, 1, 1, 1, 1, 1, 1, 1, 1, 1, 1, 1, 1, 1, 1, 1, 1, 1, 1, 1, 1, 1, 0, 0, 0, 0, 0, 0, 0, 0, 0, 0, 0, 0, 0, 0, 0, 0, 0]}"
      ]
     },
     "execution_count": 165,
     "metadata": {},
     "output_type": "execute_result"
    }
   ],
   "source": [
    "bert_inp"
   ]
  },
  {
   "cell_type": "code",
   "execution_count": 166,
   "id": "9720a9c1",
   "metadata": {},
   "outputs": [
    {
     "data": {
      "text/plain": [
       "array([  101,  2028,  4956,  2610,  2961,  2040,  2001,  7854,  1998,\n",
       "       11937,  6924,  2076,  1996, 11421,  1010,  2745,  5470,  5643,\n",
       "        1010,  2038, 11886,  2005,  1996,  2713,  1997,  2010,  2303,\n",
       "        4950,  2678,  1998,  8385,  6367, 10643,  2040,  1005,  2310,\n",
       "        2699,  2000,  2091, 13068,  1996,  4808,  2076,  1996, 27860,\n",
       "        1012,   102,     0,     0,     0,     0,     0,     0,     0,\n",
       "           0,     0,     0,     0,     0,     0,     0,     0,     0,\n",
       "           0])"
      ]
     },
     "execution_count": 166,
     "metadata": {},
     "output_type": "execute_result"
    }
   ],
   "source": [
    "input_ids"
   ]
  },
  {
   "cell_type": "code",
   "execution_count": 167,
   "id": "60830914",
   "metadata": {},
   "outputs": [
    {
     "data": {
      "text/plain": [
       "array([1, 1, 1, 1, 1, 1, 1, 1, 1, 1, 1, 1, 1, 1, 1, 1, 1, 1, 1, 1, 1, 1,\n",
       "       1, 1, 1, 1, 1, 1, 1, 1, 1, 1, 1, 1, 1, 1, 1, 1, 1, 1, 1, 1, 1, 1,\n",
       "       1, 1, 1, 0, 0, 0, 0, 0, 0, 0, 0, 0, 0, 0, 0, 0, 0, 0, 0, 0])"
      ]
     },
     "execution_count": 167,
     "metadata": {},
     "output_type": "execute_result"
    }
   ],
   "source": [
    "attention_masks"
   ]
  },
  {
   "cell_type": "code",
   "execution_count": 168,
   "id": "4487baa0",
   "metadata": {},
   "outputs": [
    {
     "name": "stdout",
     "output_type": "stream",
     "text": [
      "prieds'logit': [[-8.90707895e-02  8.98056269e-01 -7.82368422e-01  9.19078384e-03\n",
      "  -1.04985535e-02]\n",
      " [-5.93817949e-01  3.11751366e-01 -5.00535607e-01  3.50615621e-01\n",
      "   5.29220700e-01]\n",
      " [ 2.74580806e-01  5.24960220e-01 -5.69562256e-01 -1.93253845e-01\n",
      "   2.27115750e-01]\n",
      " [ 2.44317129e-01 -3.41308504e-01 -4.84494448e-01  1.57527119e-01\n",
      "   8.65527391e-01]\n",
      " [ 2.98400617e+00 -4.80385453e-01 -1.17800677e+00 -6.03118062e-01\n",
      "  -9.27470982e-01]\n",
      " [-4.14292186e-01  4.62470293e-01 -5.86642444e-01  3.22460592e-01\n",
      "  -9.53811854e-02]\n",
      " [ 4.45126683e-01  1.12296057e+00 -1.03421831e+00 -5.12869596e-01\n",
      "  -5.33288002e-01]\n",
      " [ 1.66035426e+00  2.98524261e-01 -9.57270503e-01 -3.95771295e-01\n",
      "  -3.22747231e-01]\n",
      " [-4.70789760e-01  1.71383485e-01 -4.66621518e-01  6.97866082e-02\n",
      "   8.23069930e-01]\n",
      " [-3.91584307e-01  9.19466853e-01 -7.16929793e-01 -9.84509438e-02\n",
      "   3.53675485e-01]\n",
      " [ 2.55003977e+00 -7.24218130e-01 -4.74880010e-01 -6.92291498e-01\n",
      "  -1.17981768e+00]\n",
      " [-6.61817610e-01  1.28744805e+00 -6.30556941e-01  1.82306007e-01\n",
      "  -4.47703630e-01]\n",
      " [ 9.24163759e-01  7.07389355e-01 -1.10804844e+00 -4.05879587e-01\n",
      "  -5.04951656e-01]\n",
      " [ 7.66654193e-01  1.85963809e+00 -1.46807051e+00 -3.86007845e-01\n",
      "  -1.40229130e+00]\n",
      " [ 6.15103245e-01  1.67482388e+00 -1.03047419e+00 -3.10416937e-01\n",
      "  -1.51424217e+00]\n",
      " [ 1.78616798e+00  4.93645936e-01 -1.11436796e+00 -9.43151951e-01\n",
      "  -7.21956730e-01]\n",
      " [-8.44316483e-01  5.17757284e-03 -1.68952569e-01  3.98918658e-01\n",
      "   8.12310398e-01]\n",
      " [-1.14692140e+00  1.20755994e+00 -5.12455821e-01  2.74114698e-01\n",
      "  -1.96584418e-01]\n",
      " [ 6.15103245e-01  1.67482388e+00 -1.03047419e+00 -3.10416937e-01\n",
      "  -1.51424217e+00]\n",
      " [ 3.98187667e-01  9.92185354e-01 -9.10865188e-01 -2.44160974e-03\n",
      "  -7.16386676e-01]\n",
      " [-3.07056725e-01  1.03565323e+00 -7.02945650e-01  3.78757358e-01\n",
      "  -7.07970381e-01]\n",
      " [ 1.18167078e+00  1.42118227e+00 -1.20892549e+00 -6.14803076e-01\n",
      "  -9.42356110e-01]\n",
      " [ 9.24163759e-01  7.07389355e-01 -1.10804844e+00 -4.05879587e-01\n",
      "  -5.04951656e-01]\n",
      " [ 1.13624178e-01 -9.58064497e-02 -4.35496092e-01  1.47606537e-01\n",
      "   1.40985966e-01]\n",
      " [ 1.52565444e+00  9.23879325e-01 -1.26697254e+00 -5.28761804e-01\n",
      "  -1.24700928e+00]\n",
      " [ 1.92714751e+00  4.55181867e-01 -8.92429650e-01 -7.91905582e-01\n",
      "  -1.11200523e+00]\n",
      " [-7.54561245e-01  1.16565824e+00 -5.10253370e-01  3.56026053e-01\n",
      "  -3.19652945e-01]\n",
      " [ 3.15528989e+00 -8.31430376e-01 -1.08475327e+00 -6.04986846e-01\n",
      "  -9.94510591e-01]\n",
      " [ 5.35889030e-01 -2.35395476e-01 -2.60131191e-02  2.38534203e-03\n",
      "  -2.96126097e-01]\n",
      " [-4.70789760e-01  1.71383485e-01 -4.66621518e-01  6.97866082e-02\n",
      "   8.23069930e-01]\n",
      " [-3.44918966e-01  6.18200779e-01 -5.69593608e-01  2.07541883e-01\n",
      "  -9.19892415e-02]\n",
      " [-1.03285038e+00  1.30142701e+00 -5.92413068e-01  5.37124753e-01\n",
      "  -4.05776948e-01]\n",
      " [ 8.61589909e-01 -5.14372230e-01 -5.63513041e-01  2.05735594e-01\n",
      "  -9.41264257e-03]\n",
      " [-4.14292186e-01  4.62470293e-01 -5.86642444e-01  3.22460592e-01\n",
      "  -9.53811854e-02]\n",
      " [ 1.60068357e+00  6.52271807e-01 -1.07008362e+00 -4.93779331e-01\n",
      "  -5.26088834e-01]\n",
      " [-1.14096594e+00  6.63364351e-01 -1.07429311e-01  2.61435270e-01\n",
      "   3.25706095e-01]\n",
      " [ 3.01175982e-01  8.32129776e-01 -4.05240089e-01  6.41482323e-02\n",
      "  -1.05449915e+00]\n",
      " [ 9.63058233e-01  1.25740600e+00 -1.28785264e+00 -4.02847499e-01\n",
      "  -7.13869095e-01]\n",
      " [-4.80463296e-01  4.64840829e-01 -4.16628271e-01  3.85524094e-01\n",
      "   4.74057704e-01]\n",
      " [ 8.60580862e-01  1.19942236e+00 -1.23020887e+00 -3.88242006e-01\n",
      "  -9.80607331e-01]\n",
      " [ 9.24163759e-01  7.07389355e-01 -1.10804844e+00 -4.05879587e-01\n",
      "  -5.04951656e-01]\n",
      " [-5.26121914e-01  1.02526474e+00 -7.67891049e-01 -3.13043073e-02\n",
      "  -4.25850935e-02]\n",
      " [-6.61817610e-01  1.28744805e+00 -6.30556941e-01  1.82306007e-01\n",
      "  -4.47703630e-01]\n",
      " [ 9.24163759e-01  7.07389355e-01 -1.10804844e+00 -4.05879587e-01\n",
      "  -5.04951656e-01]\n",
      " [ 9.20560360e-01  3.13662082e-01 -1.01478553e+00  8.76206756e-02\n",
      "  -5.65594912e-01]\n",
      " [ 2.02998638e+00  9.69267964e-01 -1.28374982e+00 -9.20895100e-01\n",
      "  -1.21524131e+00]\n",
      " [-1.10115969e+00 -1.91369772e-01  3.53564858e-01  3.66584480e-01\n",
      "   6.00456059e-01]\n",
      " [ 5.33990204e-01  1.41494155e+00 -1.26178539e+00 -1.31466374e-01\n",
      "  -9.77089882e-01]\n",
      " [ 5.33990204e-01  1.41494155e+00 -1.26178539e+00 -1.31466374e-01\n",
      "  -9.77089882e-01]\n",
      " [ 5.33990204e-01  1.41494155e+00 -1.26178539e+00 -1.31466374e-01\n",
      "  -9.77089882e-01]\n",
      " [ 5.33990204e-01  1.41494155e+00 -1.26178539e+00 -1.31466374e-01\n",
      "  -9.77089882e-01]\n",
      " [ 5.33990204e-01  1.41494155e+00 -1.26178539e+00 -1.31466374e-01\n",
      "  -9.77089882e-01]\n",
      " [ 5.33990204e-01  1.41494155e+00 -1.26178539e+00 -1.31466374e-01\n",
      "  -9.77089882e-01]\n",
      " [ 5.33990204e-01  1.41494155e+00 -1.26178539e+00 -1.31466374e-01\n",
      "  -9.77089882e-01]\n",
      " [ 5.33990204e-01  1.41494155e+00 -1.26178539e+00 -1.31466374e-01\n",
      "  -9.77089882e-01]\n",
      " [ 5.33990204e-01  1.41494155e+00 -1.26178539e+00 -1.31466374e-01\n",
      "  -9.77089882e-01]\n",
      " [ 5.33990204e-01  1.41494155e+00 -1.26178539e+00 -1.31466374e-01\n",
      "  -9.77089882e-01]\n",
      " [ 5.33990204e-01  1.41494155e+00 -1.26178539e+00 -1.31466374e-01\n",
      "  -9.77089882e-01]\n",
      " [ 5.33990204e-01  1.41494155e+00 -1.26178539e+00 -1.31466374e-01\n",
      "  -9.77089882e-01]\n",
      " [ 5.33990204e-01  1.41494155e+00 -1.26178539e+00 -1.31466374e-01\n",
      "  -9.77089882e-01]\n",
      " [ 5.33990204e-01  1.41494155e+00 -1.26178539e+00 -1.31466374e-01\n",
      "  -9.77089882e-01]\n",
      " [ 5.33990204e-01  1.41494155e+00 -1.26178539e+00 -1.31466374e-01\n",
      "  -9.77089882e-01]\n",
      " [ 5.33997416e-01  1.41493905e+00 -1.26178646e+00 -1.31467432e-01\n",
      "  -9.77093399e-01]\n",
      " [ 5.33997416e-01  1.41493905e+00 -1.26178646e+00 -1.31467432e-01\n",
      "  -9.77093399e-01]]\n",
      "pred_labels [1 4 1 4 0 1 1 0 4 1 0 1 0 1 1 0 4 1 1 1 1 1 0 3 0 0 1 0 0 4 1 1 0 1 0 1 1\n",
      " 1 4 1 0 1 1 0 0 0 4 1 1 1 1 1 1 1 1 1 1 1 1 1 1 1 1 1]\n"
     ]
    }
   ],
   "source": [
    "# val_inp : input_ids\n",
    "# val_mask : attention_masks\n",
    "\n",
    "preds = trained_model.predict([input_ids,attention_masks],batch_size=32)\n",
    "preds = preds['logits'] # 시그모이드함수 적용하여 데이터의 결과를 두 그룹으로 분류해본다. 0 or 1\n",
    "print(\"prieds'logit':\", preds)\n",
    "pred_labels = preds.argmax(axis=1)\n",
    "print('pred_labels', pred_labels)"
   ]
  },
  {
   "cell_type": "code",
   "execution_count": 169,
   "id": "ab3bf0f5",
   "metadata": {},
   "outputs": [
    {
     "data": {
      "text/plain": [
       "numpy.ndarray"
      ]
     },
     "execution_count": 169,
     "metadata": {},
     "output_type": "execute_result"
    }
   ],
   "source": [
    "type(pred_labels)"
   ]
  },
  {
   "cell_type": "code",
   "execution_count": 170,
   "id": "61acf515",
   "metadata": {},
   "outputs": [
    {
     "data": {
      "image/png": "[encoded data removed]",
      "text/plain": [
       "<Figure size 432x288 with 1 Axes>"
      ]
     },
     "metadata": {
      "needs_background": "light"
     },
     "output_type": "display_data"
    }
   ],
   "source": [
    "plt.hist(pred_labels)\n",
    "\n",
    "plt.title(\"Political Compass AI\")\n",
    "\n",
    "\n",
    "plt.show()"
   ]
  },
  {
   "cell_type": "code",
   "execution_count": 171,
   "id": "47af1ab0",
   "metadata": {},
   "outputs": [
    {
     "data": {
      "text/plain": [
       "1"
      ]
     },
     "execution_count": 171,
     "metadata": {},
     "output_type": "execute_result"
    }
   ],
   "source": [
    "result = np.bincount(pred_labels)\n",
    "result = np.argmax(result)\n",
    "result"
   ]
  },
  {
   "cell_type": "code",
   "execution_count": 172,
   "id": "13f06f4c",
   "metadata": {},
   "outputs": [],
   "source": [
    "def get_political_compass(result):\n",
    "    if result == 0:\n",
    "        print('Left')\n",
    "        result = 'Left'\n",
    "    elif result == 1:\n",
    "        print('Lean_Left')\n",
    "        result = 'Lean_Left'\n",
    "    elif result == 2:\n",
    "        print('Center')\n",
    "        result = 'Center'\n",
    "    elif reulst == 3:\n",
    "        print('Lean_Right')\n",
    "        result = 'Lean_Right'\n",
    "    else:\n",
    "        print('Right')\n",
    "        result = 'Right'\n",
    "    return result"
   ]
  },
  {
   "cell_type": "code",
   "execution_count": 173,
   "id": "f7edf6b3",
   "metadata": {},
   "outputs": [
    {
     "name": "stdout",
     "output_type": "stream",
     "text": [
      "Lean_Left\n"
     ]
    }
   ],
   "source": [
    "Final_Result = get_political_compass(result)"
   ]
  },
  {
   "cell_type": "code",
   "execution_count": null,
   "id": "d29c1a2d",
   "metadata": {},
   "outputs": [],
   "source": []
  },
  {
   "cell_type": "code",
   "execution_count": null,
   "id": "e9cfee28",
   "metadata": {},
   "outputs": [],
   "source": []
  }
 ],
 "metadata": {
  "kernelspec": {
   "display_name": "Python 3",
   "language": "python",
   "name": "python3"
  },
  "language_info": {
   "codemirror_mode": {
    "name": "ipython",
    "version": 3
   },
   "file_extension": ".py",
   "mimetype": "text/x-python",
   "name": "python",
   "nbconvert_exporter": "python",
   "pygments_lexer": "ipython3",
   "version": "3.8.10"
  }
 },
 "nbformat": 4,
 "nbformat_minor": 5
}
